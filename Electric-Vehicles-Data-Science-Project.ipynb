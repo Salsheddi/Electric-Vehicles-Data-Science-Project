{
 "cells": [
  {
   "cell_type": "markdown",
   "metadata": {},
   "source": [
    "##### Importing reguired libraries\n",
    "****"
   ]
  },
  {
   "cell_type": "code",
   "execution_count": 2,
   "metadata": {},
   "outputs": [],
   "source": [
    "import requests\n",
    "import pandas as pd\n",
    "\n",
    "# visualization libraries\n",
    "\n",
    "import matplotlib.pyplot as plt\n",
    "import seaborn as sns"
   ]
  },
  {
   "cell_type": "markdown",
   "metadata": {},
   "source": [
    "##### API request call\n",
    "*****"
   ]
  },
  {
   "cell_type": "code",
   "execution_count": 61,
   "metadata": {},
   "outputs": [
    {
     "ename": "JSONDecodeError",
     "evalue": "Expecting value: line 1 column 1 (char 0)",
     "output_type": "error",
     "traceback": [
      "\u001b[1;31m---------------------------------------------------------------------------\u001b[0m",
      "\u001b[1;31mJSONDecodeError\u001b[0m                           Traceback (most recent call last)",
      "File \u001b[1;32m~\\anaconda3\\Lib\\site-packages\\requests\\models.py:971\u001b[0m, in \u001b[0;36mResponse.json\u001b[1;34m(self, **kwargs)\u001b[0m\n\u001b[0;32m    970\u001b[0m \u001b[38;5;28;01mtry\u001b[39;00m:\n\u001b[1;32m--> 971\u001b[0m     \u001b[38;5;28;01mreturn\u001b[39;00m complexjson\u001b[38;5;241m.\u001b[39mloads(\u001b[38;5;28mself\u001b[39m\u001b[38;5;241m.\u001b[39mtext, \u001b[38;5;241m*\u001b[39m\u001b[38;5;241m*\u001b[39mkwargs)\n\u001b[0;32m    972\u001b[0m \u001b[38;5;28;01mexcept\u001b[39;00m JSONDecodeError \u001b[38;5;28;01mas\u001b[39;00m e:\n\u001b[0;32m    973\u001b[0m     \u001b[38;5;66;03m# Catch JSON-related errors and raise as requests.JSONDecodeError\u001b[39;00m\n\u001b[0;32m    974\u001b[0m     \u001b[38;5;66;03m# This aliases json.JSONDecodeError and simplejson.JSONDecodeError\u001b[39;00m\n",
      "File \u001b[1;32m~\\anaconda3\\Lib\\json\\__init__.py:346\u001b[0m, in \u001b[0;36mloads\u001b[1;34m(s, cls, object_hook, parse_float, parse_int, parse_constant, object_pairs_hook, **kw)\u001b[0m\n\u001b[0;32m    343\u001b[0m \u001b[38;5;28;01mif\u001b[39;00m (\u001b[38;5;28mcls\u001b[39m \u001b[38;5;129;01mis\u001b[39;00m \u001b[38;5;28;01mNone\u001b[39;00m \u001b[38;5;129;01mand\u001b[39;00m object_hook \u001b[38;5;129;01mis\u001b[39;00m \u001b[38;5;28;01mNone\u001b[39;00m \u001b[38;5;129;01mand\u001b[39;00m\n\u001b[0;32m    344\u001b[0m         parse_int \u001b[38;5;129;01mis\u001b[39;00m \u001b[38;5;28;01mNone\u001b[39;00m \u001b[38;5;129;01mand\u001b[39;00m parse_float \u001b[38;5;129;01mis\u001b[39;00m \u001b[38;5;28;01mNone\u001b[39;00m \u001b[38;5;129;01mand\u001b[39;00m\n\u001b[0;32m    345\u001b[0m         parse_constant \u001b[38;5;129;01mis\u001b[39;00m \u001b[38;5;28;01mNone\u001b[39;00m \u001b[38;5;129;01mand\u001b[39;00m object_pairs_hook \u001b[38;5;129;01mis\u001b[39;00m \u001b[38;5;28;01mNone\u001b[39;00m \u001b[38;5;129;01mand\u001b[39;00m \u001b[38;5;129;01mnot\u001b[39;00m kw):\n\u001b[1;32m--> 346\u001b[0m     \u001b[38;5;28;01mreturn\u001b[39;00m _default_decoder\u001b[38;5;241m.\u001b[39mdecode(s)\n\u001b[0;32m    347\u001b[0m \u001b[38;5;28;01mif\u001b[39;00m \u001b[38;5;28mcls\u001b[39m \u001b[38;5;129;01mis\u001b[39;00m \u001b[38;5;28;01mNone\u001b[39;00m:\n",
      "File \u001b[1;32m~\\anaconda3\\Lib\\json\\decoder.py:337\u001b[0m, in \u001b[0;36mJSONDecoder.decode\u001b[1;34m(self, s, _w)\u001b[0m\n\u001b[0;32m    333\u001b[0m \u001b[38;5;250m\u001b[39m\u001b[38;5;124;03m\"\"\"Return the Python representation of ``s`` (a ``str`` instance\u001b[39;00m\n\u001b[0;32m    334\u001b[0m \u001b[38;5;124;03mcontaining a JSON document).\u001b[39;00m\n\u001b[0;32m    335\u001b[0m \n\u001b[0;32m    336\u001b[0m \u001b[38;5;124;03m\"\"\"\u001b[39;00m\n\u001b[1;32m--> 337\u001b[0m obj, end \u001b[38;5;241m=\u001b[39m \u001b[38;5;28mself\u001b[39m\u001b[38;5;241m.\u001b[39mraw_decode(s, idx\u001b[38;5;241m=\u001b[39m_w(s, \u001b[38;5;241m0\u001b[39m)\u001b[38;5;241m.\u001b[39mend())\n\u001b[0;32m    338\u001b[0m end \u001b[38;5;241m=\u001b[39m _w(s, end)\u001b[38;5;241m.\u001b[39mend()\n",
      "File \u001b[1;32m~\\anaconda3\\Lib\\json\\decoder.py:355\u001b[0m, in \u001b[0;36mJSONDecoder.raw_decode\u001b[1;34m(self, s, idx)\u001b[0m\n\u001b[0;32m    354\u001b[0m \u001b[38;5;28;01mexcept\u001b[39;00m \u001b[38;5;167;01mStopIteration\u001b[39;00m \u001b[38;5;28;01mas\u001b[39;00m err:\n\u001b[1;32m--> 355\u001b[0m     \u001b[38;5;28;01mraise\u001b[39;00m JSONDecodeError(\u001b[38;5;124m\"\u001b[39m\u001b[38;5;124mExpecting value\u001b[39m\u001b[38;5;124m\"\u001b[39m, s, err\u001b[38;5;241m.\u001b[39mvalue) \u001b[38;5;28;01mfrom\u001b[39;00m \u001b[38;5;28;01mNone\u001b[39;00m\n\u001b[0;32m    356\u001b[0m \u001b[38;5;28;01mreturn\u001b[39;00m obj, end\n",
      "\u001b[1;31mJSONDecodeError\u001b[0m: Expecting value: line 1 column 1 (char 0)",
      "\nDuring handling of the above exception, another exception occurred:\n",
      "\u001b[1;31mJSONDecodeError\u001b[0m                           Traceback (most recent call last)",
      "Cell \u001b[1;32mIn[61], line 14\u001b[0m\n\u001b[0;32m      6\u001b[0m headers \u001b[38;5;241m=\u001b[39m {\n\u001b[0;32m      7\u001b[0m \t\u001b[38;5;124m\"\u001b[39m\u001b[38;5;124mX-RapidAPI-Key\u001b[39m\u001b[38;5;124m\"\u001b[39m: \u001b[38;5;124m\"\u001b[39m\u001b[38;5;124mcdf8b1cb59mshf343db793d63080p109824jsn8aeb3d1ed903\u001b[39m\u001b[38;5;124m\"\u001b[39m,\n\u001b[0;32m      8\u001b[0m \t\u001b[38;5;124m\"\u001b[39m\u001b[38;5;124mX-RapidAPI-Host\u001b[39m\u001b[38;5;124m\"\u001b[39m: \u001b[38;5;124m\"\u001b[39m\u001b[38;5;124melectric-vehicle-data2.p.rapidapi.com\u001b[39m\u001b[38;5;124m\"\u001b[39m\n\u001b[0;32m      9\u001b[0m }\n\u001b[0;32m     11\u001b[0m response \u001b[38;5;241m=\u001b[39m requests\u001b[38;5;241m.\u001b[39mget(url, headers\u001b[38;5;241m=\u001b[39mheaders, params\u001b[38;5;241m=\u001b[39mquerystring)\n\u001b[1;32m---> 14\u001b[0m data \u001b[38;5;241m=\u001b[39m response\u001b[38;5;241m.\u001b[39mjson()\n\u001b[0;32m     15\u001b[0m vehicles \u001b[38;5;241m=\u001b[39m data[\u001b[38;5;124m'\u001b[39m\u001b[38;5;124mdata\u001b[39m\u001b[38;5;124m'\u001b[39m]\n\u001b[0;32m     16\u001b[0m processed_data \u001b[38;5;241m=\u001b[39m []\n",
      "File \u001b[1;32m~\\anaconda3\\Lib\\site-packages\\requests\\models.py:975\u001b[0m, in \u001b[0;36mResponse.json\u001b[1;34m(self, **kwargs)\u001b[0m\n\u001b[0;32m    971\u001b[0m     \u001b[38;5;28;01mreturn\u001b[39;00m complexjson\u001b[38;5;241m.\u001b[39mloads(\u001b[38;5;28mself\u001b[39m\u001b[38;5;241m.\u001b[39mtext, \u001b[38;5;241m*\u001b[39m\u001b[38;5;241m*\u001b[39mkwargs)\n\u001b[0;32m    972\u001b[0m \u001b[38;5;28;01mexcept\u001b[39;00m JSONDecodeError \u001b[38;5;28;01mas\u001b[39;00m e:\n\u001b[0;32m    973\u001b[0m     \u001b[38;5;66;03m# Catch JSON-related errors and raise as requests.JSONDecodeError\u001b[39;00m\n\u001b[0;32m    974\u001b[0m     \u001b[38;5;66;03m# This aliases json.JSONDecodeError and simplejson.JSONDecodeError\u001b[39;00m\n\u001b[1;32m--> 975\u001b[0m     \u001b[38;5;28;01mraise\u001b[39;00m RequestsJSONDecodeError(e\u001b[38;5;241m.\u001b[39mmsg, e\u001b[38;5;241m.\u001b[39mdoc, e\u001b[38;5;241m.\u001b[39mpos)\n",
      "\u001b[1;31mJSONDecodeError\u001b[0m: Expecting value: line 1 column 1 (char 0)"
     ]
    }
   ],
   "source": [
    "## API Request\n",
    "url = \"https://electric-vehicle-data2.p.rapidapi.com/records\"\n",
    "\n",
    "querystring = {\"limit\":\"500\",\"orderBy\":\"dataListIndex_asc\"}\n",
    "\n",
    "headers = {\n",
    "\t\"X-RapidAPI-Key\": \"cdf8b1cb59mshf343db793d63080p109824jsn8aeb3d1ed903\",\n",
    "\t\"X-RapidAPI-Host\": \"electric-vehicle-data2.p.rapidapi.com\"\n",
    "}\n",
    "\n",
    "response = requests.get(url, headers=headers, params=querystring)\n",
    "\n",
    "\n",
    "data = response.json()\n",
    "vehicles = data['data']\n",
    "processed_data = []\n",
    "\n",
    "\n",
    "for v in vehicles:\n",
    "    \n",
    "        # Extract necessary fields, adjusting keys as per the actual data structure\n",
    "        v_county = v.get('county', '')\n",
    "        v_city = v.get('city', '')\n",
    "        v_modelyear = v.get('modelYear', '')\n",
    "        v_make = v.get('make', '')\n",
    "        v_model = v.get('model', '')\n",
    "        v_electricVehicleType = v.get('electricVehicleType', '')\n",
    "        v_electricRange = v.get('electricRange', '')\n",
    "        v_electricUtility = v.get('electricUtility', '')\n",
    "\n",
    "        # Append the extracted information as a dictionary to our list\n",
    "        processed_data.append({\n",
    "            'county': v_county,\n",
    "            'city': v_city,\n",
    "            'modelYear': v_modelyear,\n",
    "            'make': v_make,\n",
    "            'model': v_model,\n",
    "            'electricVehicleType': v_electricVehicleType,\n",
    "            'electricRange': v_electricRange,\n",
    "            'electricUtility': v_electricUtility\n",
    "        })\n",
    "   \n",
    "\n",
    "# Convert the processed data into a DataFrame\n",
    "df = pd.DataFrame(processed_data)\n",
    "\n",
    "# Now `df` contains only the specified number of rows.\n",
    "# You can now export this DataFrame to a CSV file\n",
    "df.to_csv('electricVehicledata.csv', index=False)"
   ]
  },
  {
   "cell_type": "markdown",
   "metadata": {},
   "source": [
    "### Data Aggregation\n",
    "***\n",
    "Data Aggregation usually refers to the process of gathering data from multiple sources and summarizing it for analysis. It might involve combining similar data from different datasets to get a more comprehensive view or to perform statistical analysis on a larger scale.\n",
    "\n",
    "\n",
    "Due to the API's constraint of limiting data extraction to 500 rows per request(same rows results in each request), we will augment the dataset obtained from the API by incorporating an additional dataset sourced from Kaggle that have the same API's fields. This  will enable us to conduct a more extensive and nuanced analysis by leveraging a larger dataset.\n",
    "\n",
    "Kaggle data source:https://www.kaggle.com/datasets/utkarshx27/electric-vehicle-population-data\n",
    "\n"
   ]
  },
  {
   "cell_type": "code",
   "execution_count": 115,
   "metadata": {
    "scrolled": true
   },
   "outputs": [
    {
     "data": {
      "text/html": [
       "<div>\n",
       "<style scoped>\n",
       "    .dataframe tbody tr th:only-of-type {\n",
       "        vertical-align: middle;\n",
       "    }\n",
       "\n",
       "    .dataframe tbody tr th {\n",
       "        vertical-align: top;\n",
       "    }\n",
       "\n",
       "    .dataframe thead th {\n",
       "        text-align: right;\n",
       "    }\n",
       "</style>\n",
       "<table border=\"1\" class=\"dataframe\">\n",
       "  <thead>\n",
       "    <tr style=\"text-align: right;\">\n",
       "      <th></th>\n",
       "      <th>VIN (1-10)</th>\n",
       "      <th>county</th>\n",
       "      <th>city</th>\n",
       "      <th>State</th>\n",
       "      <th>Postal Code</th>\n",
       "      <th>modelYear</th>\n",
       "      <th>make</th>\n",
       "      <th>model</th>\n",
       "      <th>electricVehicleType</th>\n",
       "      <th>Clean Alternative Fuel Vehicle (CAFV) Eligibility</th>\n",
       "      <th>electricRange</th>\n",
       "      <th>Base MSRP</th>\n",
       "      <th>Legislative District</th>\n",
       "      <th>DOL Vehicle ID</th>\n",
       "      <th>Vehicle Location</th>\n",
       "      <th>electricUtility</th>\n",
       "      <th>2020 Census Tract</th>\n",
       "    </tr>\n",
       "  </thead>\n",
       "  <tbody>\n",
       "    <tr>\n",
       "      <th>0</th>\n",
       "      <td>5YJ3E1EB4L</td>\n",
       "      <td>Yakima</td>\n",
       "      <td>Yakima</td>\n",
       "      <td>WA</td>\n",
       "      <td>98908.0</td>\n",
       "      <td>2020</td>\n",
       "      <td>TESLA</td>\n",
       "      <td>MODEL 3</td>\n",
       "      <td>Battery Electric Vehicle (BEV)</td>\n",
       "      <td>Clean Alternative Fuel Vehicle Eligible</td>\n",
       "      <td>322</td>\n",
       "      <td>0</td>\n",
       "      <td>14.0</td>\n",
       "      <td>127175366</td>\n",
       "      <td>POINT (-120.56916 46.58514)</td>\n",
       "      <td>PACIFICORP</td>\n",
       "      <td>5.307700e+10</td>\n",
       "    </tr>\n",
       "    <tr>\n",
       "      <th>1</th>\n",
       "      <td>5YJ3E1EA7K</td>\n",
       "      <td>San Diego</td>\n",
       "      <td>San Diego</td>\n",
       "      <td>CA</td>\n",
       "      <td>92101.0</td>\n",
       "      <td>2019</td>\n",
       "      <td>TESLA</td>\n",
       "      <td>MODEL 3</td>\n",
       "      <td>Battery Electric Vehicle (BEV)</td>\n",
       "      <td>Clean Alternative Fuel Vehicle Eligible</td>\n",
       "      <td>220</td>\n",
       "      <td>0</td>\n",
       "      <td>NaN</td>\n",
       "      <td>266614659</td>\n",
       "      <td>POINT (-117.16171 32.71568)</td>\n",
       "      <td>NaN</td>\n",
       "      <td>6.073005e+09</td>\n",
       "    </tr>\n",
       "    <tr>\n",
       "      <th>2</th>\n",
       "      <td>7JRBR0FL9M</td>\n",
       "      <td>Lane</td>\n",
       "      <td>Eugene</td>\n",
       "      <td>OR</td>\n",
       "      <td>97404.0</td>\n",
       "      <td>2021</td>\n",
       "      <td>VOLVO</td>\n",
       "      <td>S60</td>\n",
       "      <td>Plug-in Hybrid Electric Vehicle (PHEV)</td>\n",
       "      <td>Not eligible due to low battery range</td>\n",
       "      <td>22</td>\n",
       "      <td>0</td>\n",
       "      <td>NaN</td>\n",
       "      <td>144502018</td>\n",
       "      <td>POINT (-123.12802 44.09573)</td>\n",
       "      <td>NaN</td>\n",
       "      <td>4.103900e+10</td>\n",
       "    </tr>\n",
       "    <tr>\n",
       "      <th>3</th>\n",
       "      <td>5YJXCBE21K</td>\n",
       "      <td>Yakima</td>\n",
       "      <td>Yakima</td>\n",
       "      <td>WA</td>\n",
       "      <td>98908.0</td>\n",
       "      <td>2019</td>\n",
       "      <td>TESLA</td>\n",
       "      <td>MODEL X</td>\n",
       "      <td>Battery Electric Vehicle (BEV)</td>\n",
       "      <td>Clean Alternative Fuel Vehicle Eligible</td>\n",
       "      <td>289</td>\n",
       "      <td>0</td>\n",
       "      <td>14.0</td>\n",
       "      <td>477039944</td>\n",
       "      <td>POINT (-120.56916 46.58514)</td>\n",
       "      <td>PACIFICORP</td>\n",
       "      <td>5.307700e+10</td>\n",
       "    </tr>\n",
       "    <tr>\n",
       "      <th>4</th>\n",
       "      <td>5UXKT0C5XH</td>\n",
       "      <td>Snohomish</td>\n",
       "      <td>Bothell</td>\n",
       "      <td>WA</td>\n",
       "      <td>98021.0</td>\n",
       "      <td>2017</td>\n",
       "      <td>BMW</td>\n",
       "      <td>X5</td>\n",
       "      <td>Plug-in Hybrid Electric Vehicle (PHEV)</td>\n",
       "      <td>Not eligible due to low battery range</td>\n",
       "      <td>14</td>\n",
       "      <td>0</td>\n",
       "      <td>1.0</td>\n",
       "      <td>106314946</td>\n",
       "      <td>POINT (-122.18384 47.8031)</td>\n",
       "      <td>PUGET SOUND ENERGY INC</td>\n",
       "      <td>5.306105e+10</td>\n",
       "    </tr>\n",
       "    <tr>\n",
       "      <th>5</th>\n",
       "      <td>1N4AZ0CP4F</td>\n",
       "      <td>Snohomish</td>\n",
       "      <td>Everett</td>\n",
       "      <td>WA</td>\n",
       "      <td>98201.0</td>\n",
       "      <td>2015</td>\n",
       "      <td>NISSAN</td>\n",
       "      <td>LEAF</td>\n",
       "      <td>Battery Electric Vehicle (BEV)</td>\n",
       "      <td>Clean Alternative Fuel Vehicle Eligible</td>\n",
       "      <td>84</td>\n",
       "      <td>0</td>\n",
       "      <td>38.0</td>\n",
       "      <td>107901699</td>\n",
       "      <td>POINT (-122.20596 47.97659)</td>\n",
       "      <td>PUGET SOUND ENERGY INC</td>\n",
       "      <td>5.306104e+10</td>\n",
       "    </tr>\n",
       "    <tr>\n",
       "      <th>6</th>\n",
       "      <td>5YJ3E1EBXJ</td>\n",
       "      <td>Kitsap</td>\n",
       "      <td>Poulsbo</td>\n",
       "      <td>WA</td>\n",
       "      <td>98370.0</td>\n",
       "      <td>2018</td>\n",
       "      <td>TESLA</td>\n",
       "      <td>MODEL 3</td>\n",
       "      <td>Battery Electric Vehicle (BEV)</td>\n",
       "      <td>Clean Alternative Fuel Vehicle Eligible</td>\n",
       "      <td>215</td>\n",
       "      <td>0</td>\n",
       "      <td>23.0</td>\n",
       "      <td>475036313</td>\n",
       "      <td>POINT (-122.64681 47.73689)</td>\n",
       "      <td>PUGET SOUND ENERGY INC</td>\n",
       "      <td>5.303594e+10</td>\n",
       "    </tr>\n",
       "    <tr>\n",
       "      <th>7</th>\n",
       "      <td>WDC0G5EB0K</td>\n",
       "      <td>Yakima</td>\n",
       "      <td>Naches</td>\n",
       "      <td>WA</td>\n",
       "      <td>98937.0</td>\n",
       "      <td>2019</td>\n",
       "      <td>MERCEDES-BENZ</td>\n",
       "      <td>GLC-CLASS</td>\n",
       "      <td>Plug-in Hybrid Electric Vehicle (PHEV)</td>\n",
       "      <td>Not eligible due to low battery range</td>\n",
       "      <td>10</td>\n",
       "      <td>0</td>\n",
       "      <td>14.0</td>\n",
       "      <td>338148968</td>\n",
       "      <td>POINT (-120.69972 46.7309)</td>\n",
       "      <td>PACIFICORP</td>\n",
       "      <td>5.307700e+10</td>\n",
       "    </tr>\n",
       "    <tr>\n",
       "      <th>8</th>\n",
       "      <td>1N4AZ0CP3D</td>\n",
       "      <td>Kitsap</td>\n",
       "      <td>Port Orchard</td>\n",
       "      <td>WA</td>\n",
       "      <td>98366.0</td>\n",
       "      <td>2013</td>\n",
       "      <td>NISSAN</td>\n",
       "      <td>LEAF</td>\n",
       "      <td>Battery Electric Vehicle (BEV)</td>\n",
       "      <td>Clean Alternative Fuel Vehicle Eligible</td>\n",
       "      <td>75</td>\n",
       "      <td>0</td>\n",
       "      <td>26.0</td>\n",
       "      <td>249239623</td>\n",
       "      <td>POINT (-122.63847 47.54103)</td>\n",
       "      <td>PUGET SOUND ENERGY INC</td>\n",
       "      <td>5.303509e+10</td>\n",
       "    </tr>\n",
       "    <tr>\n",
       "      <th>9</th>\n",
       "      <td>KNDCC3LD9K</td>\n",
       "      <td>Kitsap</td>\n",
       "      <td>Olalla</td>\n",
       "      <td>WA</td>\n",
       "      <td>98359.0</td>\n",
       "      <td>2019</td>\n",
       "      <td>KIA</td>\n",
       "      <td>NIRO</td>\n",
       "      <td>Plug-in Hybrid Electric Vehicle (PHEV)</td>\n",
       "      <td>Not eligible due to low battery range</td>\n",
       "      <td>26</td>\n",
       "      <td>0</td>\n",
       "      <td>26.0</td>\n",
       "      <td>475609368</td>\n",
       "      <td>POINT (-122.54729 47.42602)</td>\n",
       "      <td>PUGET SOUND ENERGY INC</td>\n",
       "      <td>5.303509e+10</td>\n",
       "    </tr>\n",
       "  </tbody>\n",
       "</table>\n",
       "</div>"
      ],
      "text/plain": [
       "   VIN (1-10)     county          city State  Postal Code  modelYear  \\\n",
       "0  5YJ3E1EB4L     Yakima        Yakima    WA      98908.0       2020   \n",
       "1  5YJ3E1EA7K  San Diego     San Diego    CA      92101.0       2019   \n",
       "2  7JRBR0FL9M       Lane        Eugene    OR      97404.0       2021   \n",
       "3  5YJXCBE21K     Yakima        Yakima    WA      98908.0       2019   \n",
       "4  5UXKT0C5XH  Snohomish       Bothell    WA      98021.0       2017   \n",
       "5  1N4AZ0CP4F  Snohomish       Everett    WA      98201.0       2015   \n",
       "6  5YJ3E1EBXJ     Kitsap       Poulsbo    WA      98370.0       2018   \n",
       "7  WDC0G5EB0K     Yakima        Naches    WA      98937.0       2019   \n",
       "8  1N4AZ0CP3D     Kitsap  Port Orchard    WA      98366.0       2013   \n",
       "9  KNDCC3LD9K     Kitsap        Olalla    WA      98359.0       2019   \n",
       "\n",
       "            make      model                     electricVehicleType  \\\n",
       "0          TESLA    MODEL 3          Battery Electric Vehicle (BEV)   \n",
       "1          TESLA    MODEL 3          Battery Electric Vehicle (BEV)   \n",
       "2          VOLVO        S60  Plug-in Hybrid Electric Vehicle (PHEV)   \n",
       "3          TESLA    MODEL X          Battery Electric Vehicle (BEV)   \n",
       "4            BMW         X5  Plug-in Hybrid Electric Vehicle (PHEV)   \n",
       "5         NISSAN       LEAF          Battery Electric Vehicle (BEV)   \n",
       "6          TESLA    MODEL 3          Battery Electric Vehicle (BEV)   \n",
       "7  MERCEDES-BENZ  GLC-CLASS  Plug-in Hybrid Electric Vehicle (PHEV)   \n",
       "8         NISSAN       LEAF          Battery Electric Vehicle (BEV)   \n",
       "9            KIA       NIRO  Plug-in Hybrid Electric Vehicle (PHEV)   \n",
       "\n",
       "  Clean Alternative Fuel Vehicle (CAFV) Eligibility  electricRange  Base MSRP  \\\n",
       "0           Clean Alternative Fuel Vehicle Eligible            322          0   \n",
       "1           Clean Alternative Fuel Vehicle Eligible            220          0   \n",
       "2             Not eligible due to low battery range             22          0   \n",
       "3           Clean Alternative Fuel Vehicle Eligible            289          0   \n",
       "4             Not eligible due to low battery range             14          0   \n",
       "5           Clean Alternative Fuel Vehicle Eligible             84          0   \n",
       "6           Clean Alternative Fuel Vehicle Eligible            215          0   \n",
       "7             Not eligible due to low battery range             10          0   \n",
       "8           Clean Alternative Fuel Vehicle Eligible             75          0   \n",
       "9             Not eligible due to low battery range             26          0   \n",
       "\n",
       "   Legislative District  DOL Vehicle ID             Vehicle Location  \\\n",
       "0                  14.0       127175366  POINT (-120.56916 46.58514)   \n",
       "1                   NaN       266614659  POINT (-117.16171 32.71568)   \n",
       "2                   NaN       144502018  POINT (-123.12802 44.09573)   \n",
       "3                  14.0       477039944  POINT (-120.56916 46.58514)   \n",
       "4                   1.0       106314946   POINT (-122.18384 47.8031)   \n",
       "5                  38.0       107901699  POINT (-122.20596 47.97659)   \n",
       "6                  23.0       475036313  POINT (-122.64681 47.73689)   \n",
       "7                  14.0       338148968   POINT (-120.69972 46.7309)   \n",
       "8                  26.0       249239623  POINT (-122.63847 47.54103)   \n",
       "9                  26.0       475609368  POINT (-122.54729 47.42602)   \n",
       "\n",
       "          electricUtility  2020 Census Tract  \n",
       "0              PACIFICORP       5.307700e+10  \n",
       "1                     NaN       6.073005e+09  \n",
       "2                     NaN       4.103900e+10  \n",
       "3              PACIFICORP       5.307700e+10  \n",
       "4  PUGET SOUND ENERGY INC       5.306105e+10  \n",
       "5  PUGET SOUND ENERGY INC       5.306104e+10  \n",
       "6  PUGET SOUND ENERGY INC       5.303594e+10  \n",
       "7              PACIFICORP       5.307700e+10  \n",
       "8  PUGET SOUND ENERGY INC       5.303509e+10  \n",
       "9  PUGET SOUND ENERGY INC       5.303509e+10  "
      ]
     },
     "metadata": {},
     "output_type": "display_data"
    },
    {
     "data": {
      "text/html": [
       "<div>\n",
       "<style scoped>\n",
       "    .dataframe tbody tr th:only-of-type {\n",
       "        vertical-align: middle;\n",
       "    }\n",
       "\n",
       "    .dataframe tbody tr th {\n",
       "        vertical-align: top;\n",
       "    }\n",
       "\n",
       "    .dataframe thead th {\n",
       "        text-align: right;\n",
       "    }\n",
       "</style>\n",
       "<table border=\"1\" class=\"dataframe\">\n",
       "  <thead>\n",
       "    <tr style=\"text-align: right;\">\n",
       "      <th></th>\n",
       "      <th>county</th>\n",
       "      <th>city</th>\n",
       "      <th>modelYear</th>\n",
       "      <th>make</th>\n",
       "      <th>model</th>\n",
       "      <th>electricVehicleType</th>\n",
       "      <th>electricRange</th>\n",
       "      <th>electricUtility</th>\n",
       "    </tr>\n",
       "  </thead>\n",
       "  <tbody>\n",
       "    <tr>\n",
       "      <th>600</th>\n",
       "      <td>Snohomish</td>\n",
       "      <td>Lynnwood</td>\n",
       "      <td>2022</td>\n",
       "      <td>TESLA</td>\n",
       "      <td>MODEL Y</td>\n",
       "      <td>Battery Electric Vehicle (BEV)</td>\n",
       "      <td>0</td>\n",
       "      <td>PUGET SOUND ENERGY INC</td>\n",
       "    </tr>\n",
       "    <tr>\n",
       "      <th>601</th>\n",
       "      <td>Kitsap</td>\n",
       "      <td>Port Orchard</td>\n",
       "      <td>2021</td>\n",
       "      <td>TESLA</td>\n",
       "      <td>MODEL 3</td>\n",
       "      <td>Battery Electric Vehicle (BEV)</td>\n",
       "      <td>0</td>\n",
       "      <td>PUGET SOUND ENERGY INC</td>\n",
       "    </tr>\n",
       "    <tr>\n",
       "      <th>602</th>\n",
       "      <td>Pierce</td>\n",
       "      <td>Eatonville</td>\n",
       "      <td>2021</td>\n",
       "      <td>TOYOTA</td>\n",
       "      <td>RAV4 PRIME</td>\n",
       "      <td>Plug-in Hybrid Electric Vehicle (PHEV)</td>\n",
       "      <td>42</td>\n",
       "      <td>BONNEVILLE POWER ADMINISTRATION||CITY OF TACOM...</td>\n",
       "    </tr>\n",
       "    <tr>\n",
       "      <th>603</th>\n",
       "      <td>King</td>\n",
       "      <td>Lake Forest Park</td>\n",
       "      <td>2013</td>\n",
       "      <td>CHEVROLET</td>\n",
       "      <td>VOLT</td>\n",
       "      <td>Plug-in Hybrid Electric Vehicle (PHEV)</td>\n",
       "      <td>38</td>\n",
       "      <td>PUGET SOUND ENERGY INC||CITY OF TACOMA - (WA)</td>\n",
       "    </tr>\n",
       "    <tr>\n",
       "      <th>604</th>\n",
       "      <td>King</td>\n",
       "      <td>Kirkland</td>\n",
       "      <td>2023</td>\n",
       "      <td>TESLA</td>\n",
       "      <td>MODEL Y</td>\n",
       "      <td>Battery Electric Vehicle (BEV)</td>\n",
       "      <td>0</td>\n",
       "      <td>PUGET SOUND ENERGY INC||CITY OF TACOMA - (WA)</td>\n",
       "    </tr>\n",
       "    <tr>\n",
       "      <th>605</th>\n",
       "      <td>King</td>\n",
       "      <td>Kirkland</td>\n",
       "      <td>2018</td>\n",
       "      <td>TESLA</td>\n",
       "      <td>MODEL 3</td>\n",
       "      <td>Battery Electric Vehicle (BEV)</td>\n",
       "      <td>215</td>\n",
       "      <td>PUGET SOUND ENERGY INC||CITY OF TACOMA - (WA)</td>\n",
       "    </tr>\n",
       "    <tr>\n",
       "      <th>606</th>\n",
       "      <td>Mason</td>\n",
       "      <td>Hoodsport</td>\n",
       "      <td>2022</td>\n",
       "      <td>TESLA</td>\n",
       "      <td>MODEL Y</td>\n",
       "      <td>Battery Electric Vehicle (BEV)</td>\n",
       "      <td>0</td>\n",
       "      <td>BONNEVILLE POWER ADMINISTRATION||CITY OF TACOM...</td>\n",
       "    </tr>\n",
       "    <tr>\n",
       "      <th>607</th>\n",
       "      <td>Snohomish</td>\n",
       "      <td>Granite Falls</td>\n",
       "      <td>2021</td>\n",
       "      <td>TESLA</td>\n",
       "      <td>MODEL 3</td>\n",
       "      <td>Battery Electric Vehicle (BEV)</td>\n",
       "      <td>0</td>\n",
       "      <td>PUGET SOUND ENERGY INC</td>\n",
       "    </tr>\n",
       "    <tr>\n",
       "      <th>608</th>\n",
       "      <td>King</td>\n",
       "      <td>Issaquah</td>\n",
       "      <td>2013</td>\n",
       "      <td>TESLA</td>\n",
       "      <td>MODEL S</td>\n",
       "      <td>Battery Electric Vehicle (BEV)</td>\n",
       "      <td>208</td>\n",
       "      <td>PUGET SOUND ENERGY INC||CITY OF TACOMA - (WA)</td>\n",
       "    </tr>\n",
       "    <tr>\n",
       "      <th>609</th>\n",
       "      <td>King</td>\n",
       "      <td>North Bend</td>\n",
       "      <td>2018</td>\n",
       "      <td>CHRYSLER</td>\n",
       "      <td>PACIFICA</td>\n",
       "      <td>Plug-in Hybrid Electric Vehicle (PHEV)</td>\n",
       "      <td>33</td>\n",
       "      <td>PUGET SOUND ENERGY INC||CITY OF TACOMA - (WA)</td>\n",
       "    </tr>\n",
       "  </tbody>\n",
       "</table>\n",
       "</div>"
      ],
      "text/plain": [
       "        county              city  modelYear       make       model  \\\n",
       "600  Snohomish          Lynnwood       2022      TESLA     MODEL Y   \n",
       "601     Kitsap      Port Orchard       2021      TESLA     MODEL 3   \n",
       "602     Pierce        Eatonville       2021     TOYOTA  RAV4 PRIME   \n",
       "603       King  Lake Forest Park       2013  CHEVROLET        VOLT   \n",
       "604       King          Kirkland       2023      TESLA     MODEL Y   \n",
       "605       King          Kirkland       2018      TESLA     MODEL 3   \n",
       "606      Mason         Hoodsport       2022      TESLA     MODEL Y   \n",
       "607  Snohomish     Granite Falls       2021      TESLA     MODEL 3   \n",
       "608       King          Issaquah       2013      TESLA     MODEL S   \n",
       "609       King        North Bend       2018   CHRYSLER    PACIFICA   \n",
       "\n",
       "                        electricVehicleType  electricRange  \\\n",
       "600          Battery Electric Vehicle (BEV)              0   \n",
       "601          Battery Electric Vehicle (BEV)              0   \n",
       "602  Plug-in Hybrid Electric Vehicle (PHEV)             42   \n",
       "603  Plug-in Hybrid Electric Vehicle (PHEV)             38   \n",
       "604          Battery Electric Vehicle (BEV)              0   \n",
       "605          Battery Electric Vehicle (BEV)            215   \n",
       "606          Battery Electric Vehicle (BEV)              0   \n",
       "607          Battery Electric Vehicle (BEV)              0   \n",
       "608          Battery Electric Vehicle (BEV)            208   \n",
       "609  Plug-in Hybrid Electric Vehicle (PHEV)             33   \n",
       "\n",
       "                                       electricUtility  \n",
       "600                             PUGET SOUND ENERGY INC  \n",
       "601                             PUGET SOUND ENERGY INC  \n",
       "602  BONNEVILLE POWER ADMINISTRATION||CITY OF TACOM...  \n",
       "603      PUGET SOUND ENERGY INC||CITY OF TACOMA - (WA)  \n",
       "604      PUGET SOUND ENERGY INC||CITY OF TACOMA - (WA)  \n",
       "605      PUGET SOUND ENERGY INC||CITY OF TACOMA - (WA)  \n",
       "606  BONNEVILLE POWER ADMINISTRATION||CITY OF TACOM...  \n",
       "607                             PUGET SOUND ENERGY INC  \n",
       "608      PUGET SOUND ENERGY INC||CITY OF TACOMA - (WA)  \n",
       "609      PUGET SOUND ENERGY INC||CITY OF TACOMA - (WA)  "
      ]
     },
     "metadata": {},
     "output_type": "display_data"
    }
   ],
   "source": [
    "# read the kaggle's dataset\n",
    "df = pd.read_csv('kaggle_ev_data.csv')\n",
    "df2 = pd.read_csv('electricVehicledata.csv')\n",
    "\n",
    "# View first 10 rows\n",
    "display(df.head(10))\n",
    "\n",
    "#drop the fields that are not compatible with the API's fields\n",
    "df = df.drop(['VIN (1-10)', 'State','Postal Code','Clean Alternative Fuel Vehicle (CAFV) Eligibility','Base MSRP','Legislative District','DOL Vehicle ID','Vehicle Location','2020 Census Tract'], axis=1)\n",
    "df = df.iloc[600:3500]\n",
    "# View first 10 rows after dropping the fields\n",
    "display(df.head(10))\n",
    "\n",
    "\n",
    "# Concatenate the DataFrames\n",
    "combined_df = pd.concat([df, df2], ignore_index=True)\n",
    "combined_df.to_csv('combined_dataset(unstructured).csv', index=False)\n",
    "\n",
    "\n"
   ]
  },
  {
   "cell_type": "markdown",
   "metadata": {},
   "source": [
    "# 📝 Data Preprocessing and cleaning\n"
   ]
  },
  {
   "cell_type": "markdown",
   "metadata": {},
   "source": [
    "#### Take a first look at the data"
   ]
  },
  {
   "cell_type": "code",
   "execution_count": 3,
   "metadata": {},
   "outputs": [
    {
     "name": "stdout",
     "output_type": "stream",
     "text": [
      "      county              city  modelYear       make       model  \\\n",
      "0  Snohomish          Lynnwood       2022      TESLA     MODEL Y   \n",
      "1     Kitsap      Port Orchard       2021      TESLA     MODEL 3   \n",
      "2     Pierce        Eatonville       2021     TOYOTA  RAV4 PRIME   \n",
      "3       King  Lake Forest Park       2013  CHEVROLET        VOLT   \n",
      "4       King          Kirkland       2023      TESLA     MODEL Y   \n",
      "\n",
      "                      electricVehicleType  electricRange  \\\n",
      "0          Battery Electric Vehicle (BEV)              0   \n",
      "1          Battery Electric Vehicle (BEV)              0   \n",
      "2  Plug-in Hybrid Electric Vehicle (PHEV)             42   \n",
      "3  Plug-in Hybrid Electric Vehicle (PHEV)             38   \n",
      "4          Battery Electric Vehicle (BEV)              0   \n",
      "\n",
      "                                     electricUtility  \n",
      "0                             PUGET SOUND ENERGY INC  \n",
      "1                             PUGET SOUND ENERGY INC  \n",
      "2  BONNEVILLE POWER ADMINISTRATION||CITY OF TACOM...  \n",
      "3      PUGET SOUND ENERGY INC||CITY OF TACOMA - (WA)  \n",
      "4      PUGET SOUND ENERGY INC||CITY OF TACOMA - (WA)  \n"
     ]
    }
   ],
   "source": [
    "data  =pd.read_csv('combined_dataset(unstructured).csv')\n",
    "# Viewing the first few rows\n",
    "print(data.head())"
   ]
  },
  {
   "cell_type": "code",
   "execution_count": 4,
   "metadata": {},
   "outputs": [
    {
     "data": {
      "text/plain": [
       "(3357, 8)"
      ]
     },
     "execution_count": 4,
     "metadata": {},
     "output_type": "execute_result"
    }
   ],
   "source": [
    "data.shape"
   ]
  },
  {
   "cell_type": "markdown",
   "metadata": {},
   "source": [
    "###### There are 3354 rows and 8 columns in the dataset."
   ]
  },
  {
   "cell_type": "code",
   "execution_count": 5,
   "metadata": {},
   "outputs": [
    {
     "data": {
      "text/plain": [
       "county                 object\n",
       "city                   object\n",
       "modelYear               int64\n",
       "make                   object\n",
       "model                  object\n",
       "electricVehicleType    object\n",
       "electricRange           int64\n",
       "electricUtility        object\n",
       "dtype: object"
      ]
     },
     "execution_count": 5,
     "metadata": {},
     "output_type": "execute_result"
    }
   ],
   "source": [
    "data.dtypes"
   ]
  },
  {
   "cell_type": "markdown",
   "metadata": {},
   "source": [
    "###### There are 2 numerical attributes and 6 categorical attributes in the dataset, model years for vehicles is represented as integers ,because they refer to a specific calendar year and are not used in calculations we will change its type to category."
   ]
  },
  {
   "cell_type": "code",
   "execution_count": 6,
   "metadata": {},
   "outputs": [],
   "source": [
    "# changing modelYear data type\n",
    "data['modelYear'] = data['modelYear'].astype('category')"
   ]
  },
  {
   "cell_type": "code",
   "execution_count": 7,
   "metadata": {},
   "outputs": [
    {
     "name": "stdout",
     "output_type": "stream",
     "text": [
      "       electricRange\n",
      "count    3357.000000\n",
      "mean       83.916592\n",
      "std       101.080454\n",
      "min         0.000000\n",
      "25%         0.000000\n",
      "50%        30.000000\n",
      "75%       200.000000\n",
      "max       330.000000\n"
     ]
    }
   ],
   "source": [
    "\n",
    "# Summary statistics for numerical features\n",
    "print(data.describe())"
   ]
  },
  {
   "cell_type": "markdown",
   "metadata": {},
   "source": [
    "######  The electric range of vehicles in this dataset varies widely, as indicated by the high standard deviation. the average electric range across all vehicles is approximately 83.92 miles. This tells us that on average, the vehicles in this dataset can travel roughly 84 miles on a single charge ,there's a significant proportion of vehicles with no electric range(0), which might include missing data or data entry errors that need further investigation"
   ]
  },
  {
   "cell_type": "code",
   "execution_count": 8,
   "metadata": {},
   "outputs": [
    {
     "name": "stdout",
     "output_type": "stream",
     "text": [
      "1243\n"
     ]
    }
   ],
   "source": [
    "## how many rows that has the electric rang = 0\n",
    "\n",
    "print((data['electricRange']==0).sum())"
   ]
  },
  {
   "cell_type": "markdown",
   "metadata": {},
   "source": [
    "###### a large number of vehicles having a value of 0 (1243 vehicles). This could potentially indicate missing or unknown values in the dataset.\n",
    "\n",
    "###### To account for this uncertainty and still make use of the available data we will fill the missing or zero electric range values with average values based on the vehicle model and type. "
   ]
  },
  {
   "cell_type": "code",
   "execution_count": 9,
   "metadata": {},
   "outputs": [
    {
     "name": "stdout",
     "output_type": "stream",
     "text": [
      "298\n"
     ]
    }
   ],
   "source": [
    "# Identify entries with electricRange as 0\n",
    "zero_range_filter = data['electricRange'] == 0\n",
    "\n",
    "# Calculate the mean electricRange for each model and electricVehicleType combination\n",
    "average_ranges = data[~zero_range_filter].groupby(['model', 'electricVehicleType'])['electricRange'].mean()\n",
    "\n",
    "# Function to apply the replacement\n",
    "def replace_zero_with_average(row):\n",
    "    if row['electricRange'] == 0:  # If electricRange is 0, try to replace it\n",
    "        # Use .get((row['model'], row['electricVehicleType']), default_value) to avoid KeyErrors\n",
    "        return average_ranges.get((row['model'], row['electricVehicleType']), row['electricRange'])\n",
    "    else:\n",
    "        return row['electricRange']\n",
    "\n",
    "# Apply the function\n",
    "data['electricRange'] = data.apply(replace_zero_with_average, axis=1)\n",
    "\n",
    "print((data['electricRange']==0).sum())"
   ]
  },
  {
   "cell_type": "markdown",
   "metadata": {},
   "source": [
    "###### after running the code we could still see there's still 298 vehicles that has electric range = 0,we only replaced 945 vehicles with their mean electric range based on the model and electric vehicle type ,this could be one of the two reasons\n",
    "###### one, some of the vehicles that has the same model and electric vehicle type all have electric range = 0 (and at that case we consider them outliers that could result in baised outcomes).Two, the vehicle that have electric range = 0 could have a unique model and type.\n",
    "###### the 298 vehicles that have electric range = 0 will be dropped"
   ]
  },
  {
   "cell_type": "code",
   "execution_count": 10,
   "metadata": {},
   "outputs": [
    {
     "name": "stdout",
     "output_type": "stream",
     "text": [
      "0\n"
     ]
    }
   ],
   "source": [
    "# filter data to include vehicles with electric rang != 0\n",
    "data = data[data['electricRange'] != 0]\n",
    "print((data['electricRange']==0).sum())"
   ]
  },
  {
   "cell_type": "markdown",
   "metadata": {},
   "source": [
    "##### Handeling missing value \n",
    "****\n"
   ]
  },
  {
   "cell_type": "code",
   "execution_count": 11,
   "metadata": {},
   "outputs": [
    {
     "name": "stdout",
     "output_type": "stream",
     "text": [
      "county                 0\n",
      "city                   0\n",
      "modelYear              0\n",
      "make                   0\n",
      "model                  0\n",
      "electricVehicleType    0\n",
      "electricRange          0\n",
      "electricUtility        3\n",
      "dtype: int64\n"
     ]
    }
   ],
   "source": [
    "# Checking for any missing values\n",
    "print(data.isnull().sum())"
   ]
  },
  {
   "cell_type": "code",
   "execution_count": 12,
   "metadata": {},
   "outputs": [
    {
     "name": "stdout",
     "output_type": "stream",
     "text": [
      "        county         city modelYear    make    model  \\\n",
      "115     Sonoma   Santa Rosa      2018   HONDA  CLARITY   \n",
      "719   Thurston      Olympia      2019     KIA     NIRO   \n",
      "1200   Pulaski  Little Rock      2019  NISSAN     LEAF   \n",
      "\n",
      "                         electricVehicleType  electricRange electricUtility  \n",
      "115   Plug-in Hybrid Electric Vehicle (PHEV)           47.0             NaN  \n",
      "719   Plug-in Hybrid Electric Vehicle (PHEV)           26.0             NaN  \n",
      "1200          Battery Electric Vehicle (BEV)          150.0             NaN  \n"
     ]
    }
   ],
   "source": [
    "# Find the rows where any cell has a missing value\n",
    "rows_with_missing_values = data[data.isnull().any(axis=1)]\n",
    "\n",
    "# Display the rows with missing values\n",
    "print(rows_with_missing_values)"
   ]
  },
  {
   "cell_type": "markdown",
   "metadata": {},
   "source": [
    "###### for the 'electricUtility' column by imputation the utility data is typically associated with geography, we impute missing utilities based on the most common utility for that city and county.\n",
    "###### -in check_1 we try to see the electric utility where county = Sonoma and city = santa Rosa ,the result is only 1 row(row 115) the one that contains the Nan ,we drop that row since we can't impute it.\n",
    "\n",
    "###### -for check_2 we see that all the vehicles that have county = Thurston and = city Olympia has the electric utility = PUGET SOUND ENERGY INC, so we will replace the Nan with PUGET SOUND ENERGY INC.\n",
    "\n",
    "###### -the same thing happen with check_1 resulted in check_3 , the result is only 1 row(row 1200) the one that contains the Nan ,we drop that row since we can't impute it.\n",
    "\n",
    "\n"
   ]
  },
  {
   "cell_type": "code",
   "execution_count": 14,
   "metadata": {},
   "outputs": [
    {
     "name": "stdout",
     "output_type": "stream",
     "text": [
      "Empty DataFrame\n",
      "Columns: [county, city, modelYear, make, model, electricVehicleType, electricRange, electricUtility]\n",
      "Index: []\n"
     ]
    }
   ],
   "source": [
    "check_1 = data[(data['county'] == 'Sonoma') & (data['city'] == 'Santa Rosa') ]\n",
    "print(check_1)\n",
    "\n",
    "# drop the single row resulted \n",
    "condition = (data['county'] == 'Sonoma') & (data['city'] == 'Santa Rosa')\n",
    "\n",
    "# Invert the condition to select rows that do NOT match the criteria\n",
    "data = data[~condition]\n"
   ]
  },
  {
   "cell_type": "code",
   "execution_count": 15,
   "metadata": {},
   "outputs": [
    {
     "name": "stdout",
     "output_type": "stream",
     "text": [
      "        county     city modelYear      make     model  \\\n",
      "105   Thurston  Olympia      2023     TESLA   MODEL Y   \n",
      "126   Thurston  Olympia      2019       KIA      NIRO   \n",
      "275   Thurston  Olympia      2018  CHRYSLER  PACIFICA   \n",
      "434   Thurston  Olympia      2019       KIA      NIRO   \n",
      "559   Thurston  Olympia      2022     TESLA   MODEL Y   \n",
      "...        ...      ...       ...       ...       ...   \n",
      "3299  Thurston  Olympia      2023       KIA      NIRO   \n",
      "3301  Thurston  Olympia      2021     TESLA   MODEL Y   \n",
      "3313  Thurston  Olympia      2021     TESLA   MODEL 3   \n",
      "3314  Thurston  Olympia      2013    NISSAN      LEAF   \n",
      "3353  Thurston  Olympia      2017      FIAT       500   \n",
      "\n",
      "                         electricVehicleType  electricRange  \\\n",
      "105           Battery Electric Vehicle (BEV)     291.000000   \n",
      "126           Battery Electric Vehicle (BEV)     239.000000   \n",
      "275   Plug-in Hybrid Electric Vehicle (PHEV)      33.000000   \n",
      "434           Battery Electric Vehicle (BEV)     239.000000   \n",
      "559           Battery Electric Vehicle (BEV)     291.000000   \n",
      "...                                      ...            ...   \n",
      "3299  Plug-in Hybrid Electric Vehicle (PHEV)      33.000000   \n",
      "3301          Battery Electric Vehicle (BEV)     291.000000   \n",
      "3313          Battery Electric Vehicle (BEV)     239.922481   \n",
      "3314          Battery Electric Vehicle (BEV)      75.000000   \n",
      "3353          Battery Electric Vehicle (BEV)      84.000000   \n",
      "\n",
      "             electricUtility  \n",
      "105   PUGET SOUND ENERGY INC  \n",
      "126   PUGET SOUND ENERGY INC  \n",
      "275   PUGET SOUND ENERGY INC  \n",
      "434   PUGET SOUND ENERGY INC  \n",
      "559   PUGET SOUND ENERGY INC  \n",
      "...                      ...  \n",
      "3299  PUGET SOUND ENERGY INC  \n",
      "3301  PUGET SOUND ENERGY INC  \n",
      "3313  PUGET SOUND ENERGY INC  \n",
      "3314  PUGET SOUND ENERGY INC  \n",
      "3353  PUGET SOUND ENERGY INC  \n",
      "\n",
      "[75 rows x 8 columns]\n"
     ]
    }
   ],
   "source": [
    "check_2 = data[(data['county'] == 'Thurston') & (data['city'] == 'Olympia') ]\n",
    "print(check_2)\n",
    "\n",
    "## replace the rows that have county=Thurston and city=Olympia with electricUtility = PUGET SOUND ENERGY INC \n",
    "data.loc[(data['county'] == 'Thurston') & (data['city'] == 'Olympia'), 'electricUtility'] = 'PUGET SOUND ENERGY INC'"
   ]
  },
  {
   "cell_type": "code",
   "execution_count": 16,
   "metadata": {},
   "outputs": [
    {
     "name": "stdout",
     "output_type": "stream",
     "text": [
      "       county         city modelYear    make model  \\\n",
      "1200  Pulaski  Little Rock      2019  NISSAN  LEAF   \n",
      "\n",
      "                 electricVehicleType  electricRange electricUtility  \n",
      "1200  Battery Electric Vehicle (BEV)          150.0             NaN  \n"
     ]
    }
   ],
   "source": [
    "check_3 = data[(data['county'] == 'Pulaski') & (data['city'] == 'Little Rock') ]\n",
    "print(check_3)\n",
    " \n",
    "#drop the single row resulted \n",
    "condition = (data['county'] == 'Pulaski') & (data['city'] == 'Little Rock')\n",
    "\n",
    "# Invert the condition to select rows that do NOT match the criteria\n",
    "data = data[~condition]\n"
   ]
  },
  {
   "cell_type": "markdown",
   "metadata": {},
   "source": [
    "##### Handeling duplicates\n",
    "****\n",
    "###### we have 1013 duplicates that need to be removed \n"
   ]
  },
  {
   "cell_type": "code",
   "execution_count": 18,
   "metadata": {},
   "outputs": [
    {
     "name": "stdout",
     "output_type": "stream",
     "text": [
      "0\n"
     ]
    }
   ],
   "source": [
    "# Checking for duplicate rows\n",
    "print(data.duplicated().sum())\n",
    "\n",
    "# romve duplicates\n",
    "data = data.drop_duplicates()\n"
   ]
  },
  {
   "cell_type": "markdown",
   "metadata": {},
   "source": [
    "##### 🛠️Feature Engineering\n",
    "****"
   ]
  },
  {
   "cell_type": "markdown",
   "metadata": {},
   "source": [
    "###### In order to answer our 5th question which is 'Can we build a model that could classify vehicles based on their electric range?' we will first need to discretize the electric range into three class labels.This step is crucial because it transforms our regression problem into a classification problem, where each vehicle is assigned a label based on its electric range.\n",
    "\n",
    "###### Short Range: Vehicles with a range of less than 100 miles.\n",
    "###### Medium Range: Vehicles with a range of 100 to 200 miles.\n",
    "###### Long Range: Vehicles with a range greater than 200 miles."
   ]
  },
  {
   "cell_type": "code",
   "execution_count": 22,
   "metadata": {},
   "outputs": [],
   "source": [
    "#  Discretize the electric range\n",
    "bins = [0, 100, 200, float('inf')]\n",
    "labels = ['Short Range', 'Medium Range', 'Long Range']\n",
    "data['Range Class'] = pd.cut(data['electricRange'], bins=bins, labels=labels, include_lowest=True)\n"
   ]
  },
  {
   "cell_type": "code",
   "execution_count": null,
   "metadata": {},
   "outputs": [],
   "source": [
    "# drooping electric range"
   ]
  },
  {
   "cell_type": "markdown",
   "metadata": {},
   "source": [
    "#####  column Electric utility"
   ]
  },
  {
   "cell_type": "code",
   "execution_count": 85,
   "metadata": {},
   "outputs": [],
   "source": [
    "def categorize_electric_utility(value):\n",
    "    if isinstance(value, str):\n",
    "        value = value.strip()  # Remove leading and trailing whitespace\n",
    "        if \"||\" in value:\n",
    "            return \"Multi type Utilities\"\n",
    "        elif \"|\" in value:\n",
    "            return \"Single Type Utilities\"\n",
    "        else:\n",
    "            return \"Only One Option\"\n",
    "    else:\n",
    "        return \"Not Available\""
   ]
  },
  {
   "cell_type": "code",
   "execution_count": 86,
   "metadata": {},
   "outputs": [
    {
     "data": {
      "text/plain": [
       "array(['Single Type Utilities', 'Multi type Utilities', 'Only One Option'],\n",
       "      dtype=object)"
      ]
     },
     "execution_count": 86,
     "metadata": {},
     "output_type": "execute_result"
    }
   ],
   "source": [
    "df['Electric_Utility_Category'].unique()\n"
   ]
  },
  {
   "cell_type": "markdown",
   "metadata": {},
   "source": [
    "# Data Analysis and Visualaization"
   ]
  },
  {
   "cell_type": "code",
   "execution_count": 120,
   "metadata": {
    "scrolled": true
   },
   "outputs": [
    {
     "data": {
      "text/plain": [
       "Text(0, 0.5, 'Count')"
      ]
     },
     "execution_count": 120,
     "metadata": {},
     "output_type": "execute_result"
    },
    {
     "data": {
      "image/png": "[encoded data removed]",
      "text/plain": [
       "<Figure size 640x480 with 1 Axes>"
      ]
     },
     "metadata": {},
     "output_type": "display_data"
    }
   ],
   "source": [
    "#Histogram plot of electric range\n",
    "plt.hist(data[\"electricRange\"],bins=10,edgecolor='green')\n",
    "plt.xlabel(\"Electric_Range\")\n",
    "plt.ylabel(\"Count\")"
   ]
  },
  {
   "cell_type": "markdown",
   "metadata": {},
   "source": [
    "###### After observation The electric range colum , around 680 of cars are not provided with legit information. Instead it is filled with zeros."
   ]
  },
  {
   "cell_type": "code",
   "execution_count": 105,
   "metadata": {},
   "outputs": [
    {
     "data": {
      "image/png": "[encoded data removed]",
      "text/plain": [
       "<Figure size 640x480 with 1 Axes>"
      ]
     },
     "metadata": {},
     "output_type": "display_data"
    }
   ],
   "source": [
    "# Year Wise Cars\n",
    "\n",
    "\n",
    "year_wise_cars = data.groupby('modelYear').size().reset_index(name='num_cars')\n",
    "\n",
    "plt.plot(year_wise_cars['modelYear'], year_wise_cars['num_cars'], marker='o')\n",
    "plt.title('Year Wise Number of Cars')\n",
    "plt.xlabel('Year')\n",
    "plt.ylabel('Number of Cars')\n",
    "plt.show()"
   ]
  },
  {
   "cell_type": "code",
   "execution_count": 126,
   "metadata": {},
   "outputs": [
    {
     "data": {
      "text/html": [
       "<div>\n",
       "<style scoped>\n",
       "    .dataframe tbody tr th:only-of-type {\n",
       "        vertical-align: middle;\n",
       "    }\n",
       "\n",
       "    .dataframe tbody tr th {\n",
       "        vertical-align: top;\n",
       "    }\n",
       "\n",
       "    .dataframe thead th {\n",
       "        text-align: right;\n",
       "    }\n",
       "</style>\n",
       "<table border=\"1\" class=\"dataframe\">\n",
       "  <thead>\n",
       "    <tr style=\"text-align: right;\">\n",
       "      <th></th>\n",
       "      <th>modelYear</th>\n",
       "      <th>num_cars</th>\n",
       "    </tr>\n",
       "  </thead>\n",
       "  <tbody>\n",
       "    <tr>\n",
       "      <th>13</th>\n",
       "      <td>2022</td>\n",
       "      <td>410</td>\n",
       "    </tr>\n",
       "    <tr>\n",
       "      <th>12</th>\n",
       "      <td>2021</td>\n",
       "      <td>260</td>\n",
       "    </tr>\n",
       "    <tr>\n",
       "      <th>9</th>\n",
       "      <td>2018</td>\n",
       "      <td>255</td>\n",
       "    </tr>\n",
       "    <tr>\n",
       "      <th>11</th>\n",
       "      <td>2020</td>\n",
       "      <td>243</td>\n",
       "    </tr>\n",
       "    <tr>\n",
       "      <th>14</th>\n",
       "      <td>2023</td>\n",
       "      <td>242</td>\n",
       "    </tr>\n",
       "    <tr>\n",
       "      <th>10</th>\n",
       "      <td>2019</td>\n",
       "      <td>203</td>\n",
       "    </tr>\n",
       "    <tr>\n",
       "      <th>8</th>\n",
       "      <td>2017</td>\n",
       "      <td>188</td>\n",
       "    </tr>\n",
       "    <tr>\n",
       "      <th>7</th>\n",
       "      <td>2016</td>\n",
       "      <td>131</td>\n",
       "    </tr>\n",
       "    <tr>\n",
       "      <th>5</th>\n",
       "      <td>2014</td>\n",
       "      <td>100</td>\n",
       "    </tr>\n",
       "    <tr>\n",
       "      <th>4</th>\n",
       "      <td>2013</td>\n",
       "      <td>94</td>\n",
       "    </tr>\n",
       "  </tbody>\n",
       "</table>\n",
       "</div>"
      ],
      "text/plain": [
       "   modelYear  num_cars\n",
       "13      2022       410\n",
       "12      2021       260\n",
       "9       2018       255\n",
       "11      2020       243\n",
       "14      2023       242\n",
       "10      2019       203\n",
       "8       2017       188\n",
       "7       2016       131\n",
       "5       2014       100\n",
       "4       2013        94"
      ]
     },
     "execution_count": 126,
     "metadata": {},
     "output_type": "execute_result"
    }
   ],
   "source": [
    "year_wise_cars.sort_values(by='num_cars', ascending=False).head(10)"
   ]
  },
  {
   "cell_type": "markdown",
   "metadata": {},
   "source": [
    "The market's trust in electric vehicles began to grow after 2010, and the demand for electric vehicles has been consistently increasing ever since. However, in 2019, there was a noticeable decline in demand. This drop was primarily caused by the lockdowns imposed due to the COVID-19 pandemic."
   ]
  },
  {
   "cell_type": "code",
   "execution_count": 56,
   "metadata": {},
   "outputs": [
    {
     "data": {
      "image/png": "[encoded data removed]",
      "text/plain": [
       "<Figure size 640x480 with 1 Axes>"
      ]
     },
     "metadata": {},
     "output_type": "display_data"
    },
    {
     "data": {
      "text/html": [
       "<style type=\"text/css\">\n",
       "#T_99f8f_row0_col0 {\n",
       "  background-color: #08306b;\n",
       "  color: #f1f1f1;\n",
       "}\n",
       "#T_99f8f_row1_col0 {\n",
       "  background-color: #083370;\n",
       "  color: #f1f1f1;\n",
       "}\n",
       "#T_99f8f_row2_col0 {\n",
       "  background-color: #9fcae1;\n",
       "  color: #000000;\n",
       "}\n",
       "#T_99f8f_row3_col0 {\n",
       "  background-color: #a8cee4;\n",
       "  color: #000000;\n",
       "}\n",
       "#T_99f8f_row4_col0 {\n",
       "  background-color: #dbe9f6;\n",
       "  color: #000000;\n",
       "}\n",
       "#T_99f8f_row5_col0 {\n",
       "  background-color: #dfebf7;\n",
       "  color: #000000;\n",
       "}\n",
       "#T_99f8f_row6_col0 {\n",
       "  background-color: #e0ecf8;\n",
       "  color: #000000;\n",
       "}\n",
       "#T_99f8f_row7_col0 {\n",
       "  background-color: #ecf4fb;\n",
       "  color: #000000;\n",
       "}\n",
       "#T_99f8f_row8_col0, #T_99f8f_row9_col0, #T_99f8f_row10_col0 {\n",
       "  background-color: #eef5fc;\n",
       "  color: #000000;\n",
       "}\n",
       "#T_99f8f_row11_col0, #T_99f8f_row12_col0 {\n",
       "  background-color: #f0f6fd;\n",
       "  color: #000000;\n",
       "}\n",
       "#T_99f8f_row13_col0 {\n",
       "  background-color: #f2f7fd;\n",
       "  color: #000000;\n",
       "}\n",
       "#T_99f8f_row14_col0, #T_99f8f_row15_col0 {\n",
       "  background-color: #f3f8fe;\n",
       "  color: #000000;\n",
       "}\n",
       "#T_99f8f_row16_col0 {\n",
       "  background-color: #f5f9fe;\n",
       "  color: #000000;\n",
       "}\n",
       "#T_99f8f_row17_col0 {\n",
       "  background-color: #f6faff;\n",
       "  color: #000000;\n",
       "}\n",
       "#T_99f8f_row18_col0, #T_99f8f_row19_col0, #T_99f8f_row20_col0, #T_99f8f_row21_col0 {\n",
       "  background-color: #f7fbff;\n",
       "  color: #000000;\n",
       "}\n",
       "</style>\n",
       "<table id=\"T_99f8f\">\n",
       "  <thead>\n",
       "    <tr>\n",
       "      <th class=\"blank level0\" >&nbsp;</th>\n",
       "      <th id=\"T_99f8f_level0_col0\" class=\"col_heading level0 col0\" >count</th>\n",
       "    </tr>\n",
       "    <tr>\n",
       "      <th class=\"index_name level0\" >county</th>\n",
       "      <th class=\"blank col0\" >&nbsp;</th>\n",
       "    </tr>\n",
       "  </thead>\n",
       "  <tbody>\n",
       "    <tr>\n",
       "      <th id=\"T_99f8f_level0_row0\" class=\"row_heading level0 row0\" >King</th>\n",
       "      <td id=\"T_99f8f_row0_col0\" class=\"data row0 col0\" >840</td>\n",
       "    </tr>\n",
       "    <tr>\n",
       "      <th id=\"T_99f8f_level0_row1\" class=\"row_heading level0 row1\" >Snohomish</th>\n",
       "      <td id=\"T_99f8f_row1_col0\" class=\"data row1 col0\" >828</td>\n",
       "    </tr>\n",
       "    <tr>\n",
       "      <th id=\"T_99f8f_level0_row2\" class=\"row_heading level0 row2\" >Thurston</th>\n",
       "      <td id=\"T_99f8f_row2_col0\" class=\"data row2 col0\" >318</td>\n",
       "    </tr>\n",
       "    <tr>\n",
       "      <th id=\"T_99f8f_level0_row3\" class=\"row_heading level0 row3\" >Kitsap</th>\n",
       "      <td id=\"T_99f8f_row3_col0\" class=\"data row3 col0\" >294</td>\n",
       "    </tr>\n",
       "    <tr>\n",
       "      <th id=\"T_99f8f_level0_row4\" class=\"row_heading level0 row4\" >Yakima</th>\n",
       "      <td id=\"T_99f8f_row4_col0\" class=\"data row4 col0\" >126</td>\n",
       "    </tr>\n",
       "    <tr>\n",
       "      <th id=\"T_99f8f_level0_row5\" class=\"row_heading level0 row5\" >Island</th>\n",
       "      <td id=\"T_99f8f_row5_col0\" class=\"data row5 col0\" >108</td>\n",
       "    </tr>\n",
       "    <tr>\n",
       "      <th id=\"T_99f8f_level0_row6\" class=\"row_heading level0 row6\" >Skagit</th>\n",
       "      <td id=\"T_99f8f_row6_col0\" class=\"data row6 col0\" >102</td>\n",
       "    </tr>\n",
       "    <tr>\n",
       "      <th id=\"T_99f8f_level0_row7\" class=\"row_heading level0 row7\" >Chelan</th>\n",
       "      <td id=\"T_99f8f_row7_col0\" class=\"data row7 col0\" >54</td>\n",
       "    </tr>\n",
       "    <tr>\n",
       "      <th id=\"T_99f8f_level0_row8\" class=\"row_heading level0 row8\" >Pierce</th>\n",
       "      <td id=\"T_99f8f_row8_col0\" class=\"data row8 col0\" >42</td>\n",
       "    </tr>\n",
       "    <tr>\n",
       "      <th id=\"T_99f8f_level0_row9\" class=\"row_heading level0 row9\" >Grant</th>\n",
       "      <td id=\"T_99f8f_row9_col0\" class=\"data row9 col0\" >42</td>\n",
       "    </tr>\n",
       "    <tr>\n",
       "      <th id=\"T_99f8f_level0_row10\" class=\"row_heading level0 row10\" >Kittitas</th>\n",
       "      <td id=\"T_99f8f_row10_col0\" class=\"data row10 col0\" >42</td>\n",
       "    </tr>\n",
       "    <tr>\n",
       "      <th id=\"T_99f8f_level0_row11\" class=\"row_heading level0 row11\" >Whatcom</th>\n",
       "      <td id=\"T_99f8f_row11_col0\" class=\"data row11 col0\" >36</td>\n",
       "    </tr>\n",
       "    <tr>\n",
       "      <th id=\"T_99f8f_level0_row12\" class=\"row_heading level0 row12\" >Walla Walla</th>\n",
       "      <td id=\"T_99f8f_row12_col0\" class=\"data row12 col0\" >36</td>\n",
       "    </tr>\n",
       "    <tr>\n",
       "      <th id=\"T_99f8f_level0_row13\" class=\"row_heading level0 row13\" >Spokane</th>\n",
       "      <td id=\"T_99f8f_row13_col0\" class=\"data row13 col0\" >30</td>\n",
       "    </tr>\n",
       "    <tr>\n",
       "      <th id=\"T_99f8f_level0_row14\" class=\"row_heading level0 row14\" >Whitman</th>\n",
       "      <td id=\"T_99f8f_row14_col0\" class=\"data row14 col0\" >24</td>\n",
       "    </tr>\n",
       "    <tr>\n",
       "      <th id=\"T_99f8f_level0_row15\" class=\"row_heading level0 row15\" >Clark</th>\n",
       "      <td id=\"T_99f8f_row15_col0\" class=\"data row15 col0\" >24</td>\n",
       "    </tr>\n",
       "    <tr>\n",
       "      <th id=\"T_99f8f_level0_row16\" class=\"row_heading level0 row16\" >Stevens</th>\n",
       "      <td id=\"T_99f8f_row16_col0\" class=\"data row16 col0\" >18</td>\n",
       "    </tr>\n",
       "    <tr>\n",
       "      <th id=\"T_99f8f_level0_row17\" class=\"row_heading level0 row17\" >Okanogan</th>\n",
       "      <td id=\"T_99f8f_row17_col0\" class=\"data row17 col0\" >12</td>\n",
       "    </tr>\n",
       "    <tr>\n",
       "      <th id=\"T_99f8f_level0_row18\" class=\"row_heading level0 row18\" >Clallam</th>\n",
       "      <td id=\"T_99f8f_row18_col0\" class=\"data row18 col0\" >6</td>\n",
       "    </tr>\n",
       "    <tr>\n",
       "      <th id=\"T_99f8f_level0_row19\" class=\"row_heading level0 row19\" >Lewis</th>\n",
       "      <td id=\"T_99f8f_row19_col0\" class=\"data row19 col0\" >6</td>\n",
       "    </tr>\n",
       "    <tr>\n",
       "      <th id=\"T_99f8f_level0_row20\" class=\"row_heading level0 row20\" >Douglas</th>\n",
       "      <td id=\"T_99f8f_row20_col0\" class=\"data row20 col0\" >6</td>\n",
       "    </tr>\n",
       "    <tr>\n",
       "      <th id=\"T_99f8f_level0_row21\" class=\"row_heading level0 row21\" >Jefferson</th>\n",
       "      <td id=\"T_99f8f_row21_col0\" class=\"data row21 col0\" >6</td>\n",
       "    </tr>\n",
       "  </tbody>\n",
       "</table>\n"
      ],
      "text/plain": [
       "<pandas.io.formats.style.Styler at 0x24a21dc1410>"
      ]
     },
     "execution_count": 56,
     "metadata": {},
     "output_type": "execute_result"
    }
   ],
   "source": [
    "# Plot showing counties with count of cars\n",
    "car_counts = df['county'].value_counts()\n",
    "\n",
    "# plot the counts\n",
    "car_counts.plot(kind='bar')\n",
    "plt.xlabel('County')\n",
    "plt.ylabel('Number of Cars')\n",
    "plt.title('Cars per County')\n",
    "plt.show()\n",
    "\n",
    "car_counts_df = car_counts.to_frame()\n",
    "car_counts_df.style.background_gradient(cmap='Blues')"
   ]
  },
  {
   "cell_type": "code",
   "execution_count": null,
   "metadata": {},
   "outputs": [],
   "source": [
    "King county has the highest number of electric cars registered with 850 cars, followed by Snohomish and Pierce county."
   ]
  },
  {
   "cell_type": "code",
   "execution_count": 59,
   "metadata": {},
   "outputs": [
    {
     "data": {
      "image/png": "[encoded data removed]",
      "text/plain": [
       "<Figure size 640x480 with 1 Axes>"
      ]
     },
     "metadata": {},
     "output_type": "display_data"
    }
   ],
   "source": [
    "cnt_MkCity = df.groupby(['city', 'make']).size().reset_index(name='Count')\n",
    "\n",
    "# Group the data by county and make, and sum the counts for each group\n",
    "grouped_data_cty = cnt_MkCity.groupby(['city', 'make'])['Count'].sum().reset_index()\n",
    "\n",
    "# Group the data by county and sum the counts for each county\n",
    "city_counts = grouped_data_cty.groupby('city')['Count'].sum().reset_index()\n",
    "make_counts = grouped_data_cty.groupby('make')['Count'].sum().reset_index()\n",
    "\n",
    "\n",
    "# Sort the counties by count in descending order, and select the top 10\n",
    "top_cities = city_counts.sort_values(by='Count', ascending=False).head(20)\n",
    "top_makes = make_counts.sort_values(by='Count', ascending=False).head(10)\n",
    "\n",
    "\n",
    "# Filter the data to only include the top 10 counties\n",
    "filtered_data_Cty = grouped_data_cty[grouped_data_cty['city'].isin(top_cities['city']) & grouped_data_cty['make'].isin(top_makes['make'])]\n",
    "\n",
    "\n",
    "# Pivot the data to create a matrix with counties as rows, makes as columns, and counts as values\n",
    "pivoted_data_cty = filtered_data_Cty.pivot(index='city', columns='make', values='Count').fillna(0)\n",
    "\n",
    "# Create a stacked bar plot of the pivoted data\n",
    "pivoted_data_cty.plot(kind='bar', stacked=True)\n",
    "\n",
    "# Set the title and axis labels\n",
    "plt.title('Top 10 Make distribution count per City')\n",
    "plt.xlabel('City')\n",
    "plt.ylabel('Number of Cars')\n",
    "\n",
    "# Show the plot\n",
    "plt.show()"
   ]
  },
  {
   "cell_type": "code",
   "execution_count": null,
   "metadata": {},
   "outputs": [],
   "source": [
    "Here we presents the top 20 counties with top 10 consumed make. It is clearly shown that TESLA is the number one choice followed by NISSAN.\n",
    "Seattle is the city with heighest number of cars."
   ]
  },
  {
   "cell_type": "code",
   "execution_count": 92,
   "metadata": {},
   "outputs": [
    {
     "data": {
      "image/png": "[encoded data removed]",
      "text/plain": [
       "<Figure size 640x480 with 1 Axes>"
      ]
     },
     "metadata": {},
     "output_type": "display_data"
    }
   ],
   "source": [
    "cnt_Cty_EUD = df.groupby(['city', 'Electric_Utility_Category']).size().reset_index(name='Count')\n",
    "\n",
    "# Group the data by county and make, and sum the counts for each group\n",
    "grouped_data_Cty_EUD = cnt_Cty_EUD.groupby(['city', 'Electric_Utility_Category'])['Count'].sum().reset_index()\n",
    "\n",
    "# Group the data by county and sum the counts for each county\n",
    "Cty_EUD_counts = grouped_data_Cty_EUD.groupby('city')['Count'].sum().reset_index()\n",
    "# make_counts = grouped_data_St.groupby('Make')['Count'].sum().reset_index()\n",
    "\n",
    "\n",
    "# Sort the counties by count in descending order, and select the top 10\n",
    "top_Cty_EUD_counts = Cty_EUD_counts.sort_values(by='Count', ascending=False).head(20)\n",
    "\n",
    "\n",
    "\n",
    "# Filter the data to only include the top 10 counties\n",
    "filtered_data_Cty_EUD = grouped_data_Cty_EUD[grouped_data_Cty_EUD['city'].isin(top_Cty_EUD_counts['city'])]\n",
    "\n",
    "\n",
    "# Pivot the data to create a matrix with counties as rows, makes as columns, and counts as values\n",
    "pivoted_data_Cty_EUD = filtered_data_Cty_EUD.pivot(index='city', columns='Electric_Utility_Category', values='Count').fillna(0)\n",
    "\n",
    "# Create a stacked bar plot of the pivoted data\n",
    "pivoted_data_Cty_EUD.plot(kind='bar', stacked=True)\n",
    "\n",
    "# Set the title and axis labels\n",
    "plt.title('Electric Utility Distribution in top 20 cities with highest number of cars')\n",
    "# plt.yscale('log')\n",
    "plt.xlabel('City')\n",
    "plt.ylabel('Number of EUC')\n",
    "\n",
    "# Show the plot\n",
    "plt.show()\n",
    "\n"
   ]
  },
  {
   "cell_type": "code",
   "execution_count": null,
   "metadata": {},
   "outputs": [],
   "source": [
    "This plot also shows that Seattle presents a significant market potential for other utility providers."
   ]
  },
  {
   "cell_type": "code",
   "execution_count": 131,
   "metadata": {},
   "outputs": [
    {
     "data": {
      "application/vnd.plotly.v1+json": {
       "config": {
        "plotlyServerURL": "https://plot.ly"
       },
       "data": [
        {
         "domain": {
          "x": [
           0,
           1
          ],
          "y": [
           0,
           1
          ]
         },
         "hole": true,
         "hovertemplate": "<b>%{hovertext}</b><br><br>vehicle_type=%{label}<br>km_range=%{value}<extra></extra>",
         "hovertext": [
          92.40734188412208,
          30.854460093896712
         ],
         "labels": [
          "Battery Electric Vehicle (BEV)",
          "Plug-in Hybrid Electric Vehicle (PHEV)"
         ],
         "legendgroup": "",
         "name": "",
         "showlegend": true,
         "type": "pie",
         "values": [
          92.40734188412208,
          30.854460093896712
         ]
        }
       ],
       "layout": {
        "legend": {
         "tracegroupgap": 0
        },
        "template": {
         "data": {
          "bar": [
           {
            "error_x": {
             "color": "#2a3f5f"
            },
            "error_y": {
             "color": "#2a3f5f"
            },
            "marker": {
             "line": {
              "color": "#E5ECF6",
              "width": 0.5
             },
             "pattern": {
              "fillmode": "overlay",
              "size": 10,
              "solidity": 0.2
             }
            },
            "type": "bar"
           }
          ],
          "barpolar": [
           {
            "marker": {
             "line": {
              "color": "#E5ECF6",
              "width": 0.5
             },
             "pattern": {
              "fillmode": "overlay",
              "size": 10,
              "solidity": 0.2
             }
            },
            "type": "barpolar"
           }
          ],
          "carpet": [
           {
            "aaxis": {
             "endlinecolor": "#2a3f5f",
             "gridcolor": "white",
             "linecolor": "white",
             "minorgridcolor": "white",
             "startlinecolor": "#2a3f5f"
            },
            "baxis": {
             "endlinecolor": "#2a3f5f",
             "gridcolor": "white",
             "linecolor": "white",
             "minorgridcolor": "white",
             "startlinecolor": "#2a3f5f"
            },
            "type": "carpet"
           }
          ],
          "choropleth": [
           {
            "colorbar": {
             "outlinewidth": 0,
             "ticks": ""
            },
            "type": "choropleth"
           }
          ],
          "contour": [
           {
            "colorbar": {
             "outlinewidth": 0,
             "ticks": ""
            },
            "colorscale": [
             [
              0,
              "#0d0887"
             ],
             [
              0.1111111111111111,
              "#46039f"
             ],
             [
              0.2222222222222222,
              "#7201a8"
             ],
             [
              0.3333333333333333,
              "#9c179e"
             ],
             [
              0.4444444444444444,
              "#bd3786"
             ],
             [
              0.5555555555555556,
              "#d8576b"
             ],
             [
              0.6666666666666666,
              "#ed7953"
             ],
             [
              0.7777777777777778,
              "#fb9f3a"
             ],
             [
              0.8888888888888888,
              "#fdca26"
             ],
             [
              1,
              "#f0f921"
             ]
            ],
            "type": "contour"
           }
          ],
          "contourcarpet": [
           {
            "colorbar": {
             "outlinewidth": 0,
             "ticks": ""
            },
            "type": "contourcarpet"
           }
          ],
          "heatmap": [
           {
            "colorbar": {
             "outlinewidth": 0,
             "ticks": ""
            },
            "colorscale": [
             [
              0,
              "#0d0887"
             ],
             [
              0.1111111111111111,
              "#46039f"
             ],
             [
              0.2222222222222222,
              "#7201a8"
             ],
             [
              0.3333333333333333,
              "#9c179e"
             ],
             [
              0.4444444444444444,
              "#bd3786"
             ],
             [
              0.5555555555555556,
              "#d8576b"
             ],
             [
              0.6666666666666666,
              "#ed7953"
             ],
             [
              0.7777777777777778,
              "#fb9f3a"
             ],
             [
              0.8888888888888888,
              "#fdca26"
             ],
             [
              1,
              "#f0f921"
             ]
            ],
            "type": "heatmap"
           }
          ],
          "heatmapgl": [
           {
            "colorbar": {
             "outlinewidth": 0,
             "ticks": ""
            },
            "colorscale": [
             [
              0,
              "#0d0887"
             ],
             [
              0.1111111111111111,
              "#46039f"
             ],
             [
              0.2222222222222222,
              "#7201a8"
             ],
             [
              0.3333333333333333,
              "#9c179e"
             ],
             [
              0.4444444444444444,
              "#bd3786"
             ],
             [
              0.5555555555555556,
              "#d8576b"
             ],
             [
              0.6666666666666666,
              "#ed7953"
             ],
             [
              0.7777777777777778,
              "#fb9f3a"
             ],
             [
              0.8888888888888888,
              "#fdca26"
             ],
             [
              1,
              "#f0f921"
             ]
            ],
            "type": "heatmapgl"
           }
          ],
          "histogram": [
           {
            "marker": {
             "pattern": {
              "fillmode": "overlay",
              "size": 10,
              "solidity": 0.2
             }
            },
            "type": "histogram"
           }
          ],
          "histogram2d": [
           {
            "colorbar": {
             "outlinewidth": 0,
             "ticks": ""
            },
            "colorscale": [
             [
              0,
              "#0d0887"
             ],
             [
              0.1111111111111111,
              "#46039f"
             ],
             [
              0.2222222222222222,
              "#7201a8"
             ],
             [
              0.3333333333333333,
              "#9c179e"
             ],
             [
              0.4444444444444444,
              "#bd3786"
             ],
             [
              0.5555555555555556,
              "#d8576b"
             ],
             [
              0.6666666666666666,
              "#ed7953"
             ],
             [
              0.7777777777777778,
              "#fb9f3a"
             ],
             [
              0.8888888888888888,
              "#fdca26"
             ],
             [
              1,
              "#f0f921"
             ]
            ],
            "type": "histogram2d"
           }
          ],
          "histogram2dcontour": [
           {
            "colorbar": {
             "outlinewidth": 0,
             "ticks": ""
            },
            "colorscale": [
             [
              0,
              "#0d0887"
             ],
             [
              0.1111111111111111,
              "#46039f"
             ],
             [
              0.2222222222222222,
              "#7201a8"
             ],
             [
              0.3333333333333333,
              "#9c179e"
             ],
             [
              0.4444444444444444,
              "#bd3786"
             ],
             [
              0.5555555555555556,
              "#d8576b"
             ],
             [
              0.6666666666666666,
              "#ed7953"
             ],
             [
              0.7777777777777778,
              "#fb9f3a"
             ],
             [
              0.8888888888888888,
              "#fdca26"
             ],
             [
              1,
              "#f0f921"
             ]
            ],
            "type": "histogram2dcontour"
           }
          ],
          "mesh3d": [
           {
            "colorbar": {
             "outlinewidth": 0,
             "ticks": ""
            },
            "type": "mesh3d"
           }
          ],
          "parcoords": [
           {
            "line": {
             "colorbar": {
              "outlinewidth": 0,
              "ticks": ""
             }
            },
            "type": "parcoords"
           }
          ],
          "pie": [
           {
            "automargin": true,
            "type": "pie"
           }
          ],
          "scatter": [
           {
            "fillpattern": {
             "fillmode": "overlay",
             "size": 10,
             "solidity": 0.2
            },
            "type": "scatter"
           }
          ],
          "scatter3d": [
           {
            "line": {
             "colorbar": {
              "outlinewidth": 0,
              "ticks": ""
             }
            },
            "marker": {
             "colorbar": {
              "outlinewidth": 0,
              "ticks": ""
             }
            },
            "type": "scatter3d"
           }
          ],
          "scattercarpet": [
           {
            "marker": {
             "colorbar": {
              "outlinewidth": 0,
              "ticks": ""
             }
            },
            "type": "scattercarpet"
           }
          ],
          "scattergeo": [
           {
            "marker": {
             "colorbar": {
              "outlinewidth": 0,
              "ticks": ""
             }
            },
            "type": "scattergeo"
           }
          ],
          "scattergl": [
           {
            "marker": {
             "colorbar": {
              "outlinewidth": 0,
              "ticks": ""
             }
            },
            "type": "scattergl"
           }
          ],
          "scattermapbox": [
           {
            "marker": {
             "colorbar": {
              "outlinewidth": 0,
              "ticks": ""
             }
            },
            "type": "scattermapbox"
           }
          ],
          "scatterpolar": [
           {
            "marker": {
             "colorbar": {
              "outlinewidth": 0,
              "ticks": ""
             }
            },
            "type": "scatterpolar"
           }
          ],
          "scatterpolargl": [
           {
            "marker": {
             "colorbar": {
              "outlinewidth": 0,
              "ticks": ""
             }
            },
            "type": "scatterpolargl"
           }
          ],
          "scatterternary": [
           {
            "marker": {
             "colorbar": {
              "outlinewidth": 0,
              "ticks": ""
             }
            },
            "type": "scatterternary"
           }
          ],
          "surface": [
           {
            "colorbar": {
             "outlinewidth": 0,
             "ticks": ""
            },
            "colorscale": [
             [
              0,
              "#0d0887"
             ],
             [
              0.1111111111111111,
              "#46039f"
             ],
             [
              0.2222222222222222,
              "#7201a8"
             ],
             [
              0.3333333333333333,
              "#9c179e"
             ],
             [
              0.4444444444444444,
              "#bd3786"
             ],
             [
              0.5555555555555556,
              "#d8576b"
             ],
             [
              0.6666666666666666,
              "#ed7953"
             ],
             [
              0.7777777777777778,
              "#fb9f3a"
             ],
             [
              0.8888888888888888,
              "#fdca26"
             ],
             [
              1,
              "#f0f921"
             ]
            ],
            "type": "surface"
           }
          ],
          "table": [
           {
            "cells": {
             "fill": {
              "color": "#EBF0F8"
             },
             "line": {
              "color": "white"
             }
            },
            "header": {
             "fill": {
              "color": "#C8D4E3"
             },
             "line": {
              "color": "white"
             }
            },
            "type": "table"
           }
          ]
         },
         "layout": {
          "annotationdefaults": {
           "arrowcolor": "#2a3f5f",
           "arrowhead": 0,
           "arrowwidth": 1
          },
          "autotypenumbers": "strict",
          "coloraxis": {
           "colorbar": {
            "outlinewidth": 0,
            "ticks": ""
           }
          },
          "colorscale": {
           "diverging": [
            [
             0,
             "#8e0152"
            ],
            [
             0.1,
             "#c51b7d"
            ],
            [
             0.2,
             "#de77ae"
            ],
            [
             0.3,
             "#f1b6da"
            ],
            [
             0.4,
             "#fde0ef"
            ],
            [
             0.5,
             "#f7f7f7"
            ],
            [
             0.6,
             "#e6f5d0"
            ],
            [
             0.7,
             "#b8e186"
            ],
            [
             0.8,
             "#7fbc41"
            ],
            [
             0.9,
             "#4d9221"
            ],
            [
             1,
             "#276419"
            ]
           ],
           "sequential": [
            [
             0,
             "#0d0887"
            ],
            [
             0.1111111111111111,
             "#46039f"
            ],
            [
             0.2222222222222222,
             "#7201a8"
            ],
            [
             0.3333333333333333,
             "#9c179e"
            ],
            [
             0.4444444444444444,
             "#bd3786"
            ],
            [
             0.5555555555555556,
             "#d8576b"
            ],
            [
             0.6666666666666666,
             "#ed7953"
            ],
            [
             0.7777777777777778,
             "#fb9f3a"
            ],
            [
             0.8888888888888888,
             "#fdca26"
            ],
            [
             1,
             "#f0f921"
            ]
           ],
           "sequentialminus": [
            [
             0,
             "#0d0887"
            ],
            [
             0.1111111111111111,
             "#46039f"
            ],
            [
             0.2222222222222222,
             "#7201a8"
            ],
            [
             0.3333333333333333,
             "#9c179e"
            ],
            [
             0.4444444444444444,
             "#bd3786"
            ],
            [
             0.5555555555555556,
             "#d8576b"
            ],
            [
             0.6666666666666666,
             "#ed7953"
            ],
            [
             0.7777777777777778,
             "#fb9f3a"
            ],
            [
             0.8888888888888888,
             "#fdca26"
            ],
            [
             1,
             "#f0f921"
            ]
           ]
          },
          "colorway": [
           "#636efa",
           "#EF553B",
           "#00cc96",
           "#ab63fa",
           "#FFA15A",
           "#19d3f3",
           "#FF6692",
           "#B6E880",
           "#FF97FF",
           "#FECB52"
          ],
          "font": {
           "color": "#2a3f5f"
          },
          "geo": {
           "bgcolor": "white",
           "lakecolor": "white",
           "landcolor": "#E5ECF6",
           "showlakes": true,
           "showland": true,
           "subunitcolor": "white"
          },
          "hoverlabel": {
           "align": "left"
          },
          "hovermode": "closest",
          "mapbox": {
           "style": "light"
          },
          "paper_bgcolor": "white",
          "plot_bgcolor": "#E5ECF6",
          "polar": {
           "angularaxis": {
            "gridcolor": "white",
            "linecolor": "white",
            "ticks": ""
           },
           "bgcolor": "#E5ECF6",
           "radialaxis": {
            "gridcolor": "white",
            "linecolor": "white",
            "ticks": ""
           }
          },
          "scene": {
           "xaxis": {
            "backgroundcolor": "#E5ECF6",
            "gridcolor": "white",
            "gridwidth": 2,
            "linecolor": "white",
            "showbackground": true,
            "ticks": "",
            "zerolinecolor": "white"
           },
           "yaxis": {
            "backgroundcolor": "#E5ECF6",
            "gridcolor": "white",
            "gridwidth": 2,
            "linecolor": "white",
            "showbackground": true,
            "ticks": "",
            "zerolinecolor": "white"
           },
           "zaxis": {
            "backgroundcolor": "#E5ECF6",
            "gridcolor": "white",
            "gridwidth": 2,
            "linecolor": "white",
            "showbackground": true,
            "ticks": "",
            "zerolinecolor": "white"
           }
          },
          "shapedefaults": {
           "line": {
            "color": "#2a3f5f"
           }
          },
          "ternary": {
           "aaxis": {
            "gridcolor": "white",
            "linecolor": "white",
            "ticks": ""
           },
           "baxis": {
            "gridcolor": "white",
            "linecolor": "white",
            "ticks": ""
           },
           "bgcolor": "#E5ECF6",
           "caxis": {
            "gridcolor": "white",
            "linecolor": "white",
            "ticks": ""
           }
          },
          "title": {
           "x": 0.05
          },
          "xaxis": {
           "automargin": true,
           "gridcolor": "white",
           "linecolor": "white",
           "ticks": "",
           "title": {
            "standoff": 15
           },
           "zerolinecolor": "white",
           "zerolinewidth": 2
          },
          "yaxis": {
           "automargin": true,
           "gridcolor": "white",
           "linecolor": "white",
           "ticks": "",
           "title": {
            "standoff": 15
           },
           "zerolinecolor": "white",
           "zerolinewidth": 2
          }
         }
        },
        "title": {
         "text": "Vehicle Types with KM Range"
        }
       }
      },
      "text/html": [
       "<div>                            <div id=\"ce3400e6-c07f-4cc0-8274-1ca57e5303c2\" class=\"plotly-graph-div\" style=\"height:525px; width:100%;\"></div>            <script type=\"text/javascript\">                require([\"plotly\"], function(Plotly) {                    window.PLOTLYENV=window.PLOTLYENV || {};                                    if (document.getElementById(\"ce3400e6-c07f-4cc0-8274-1ca57e5303c2\")) {                    Plotly.newPlot(                        \"ce3400e6-c07f-4cc0-8274-1ca57e5303c2\",                        [{\"domain\":{\"x\":[0.0,1.0],\"y\":[0.0,1.0]},\"hole\":true,\"hovertemplate\":\"<b>%{hovertext}</b><br><br>vehicle_type=%{label}<br>km_range=%{value}<extra></extra>\",\"hovertext\":[92.40734188412208,30.854460093896712],\"labels\":[\"Battery Electric Vehicle (BEV)\",\"Plug-in Hybrid Electric Vehicle (PHEV)\"],\"legendgroup\":\"\",\"name\":\"\",\"showlegend\":true,\"values\":[92.40734188412208,30.854460093896712],\"type\":\"pie\"}],                        {\"template\":{\"data\":{\"histogram2dcontour\":[{\"type\":\"histogram2dcontour\",\"colorbar\":{\"outlinewidth\":0,\"ticks\":\"\"},\"colorscale\":[[0.0,\"#0d0887\"],[0.1111111111111111,\"#46039f\"],[0.2222222222222222,\"#7201a8\"],[0.3333333333333333,\"#9c179e\"],[0.4444444444444444,\"#bd3786\"],[0.5555555555555556,\"#d8576b\"],[0.6666666666666666,\"#ed7953\"],[0.7777777777777778,\"#fb9f3a\"],[0.8888888888888888,\"#fdca26\"],[1.0,\"#f0f921\"]]}],\"choropleth\":[{\"type\":\"choropleth\",\"colorbar\":{\"outlinewidth\":0,\"ticks\":\"\"}}],\"histogram2d\":[{\"type\":\"histogram2d\",\"colorbar\":{\"outlinewidth\":0,\"ticks\":\"\"},\"colorscale\":[[0.0,\"#0d0887\"],[0.1111111111111111,\"#46039f\"],[0.2222222222222222,\"#7201a8\"],[0.3333333333333333,\"#9c179e\"],[0.4444444444444444,\"#bd3786\"],[0.5555555555555556,\"#d8576b\"],[0.6666666666666666,\"#ed7953\"],[0.7777777777777778,\"#fb9f3a\"],[0.8888888888888888,\"#fdca26\"],[1.0,\"#f0f921\"]]}],\"heatmap\":[{\"type\":\"heatmap\",\"colorbar\":{\"outlinewidth\":0,\"ticks\":\"\"},\"colorscale\":[[0.0,\"#0d0887\"],[0.1111111111111111,\"#46039f\"],[0.2222222222222222,\"#7201a8\"],[0.3333333333333333,\"#9c179e\"],[0.4444444444444444,\"#bd3786\"],[0.5555555555555556,\"#d8576b\"],[0.6666666666666666,\"#ed7953\"],[0.7777777777777778,\"#fb9f3a\"],[0.8888888888888888,\"#fdca26\"],[1.0,\"#f0f921\"]]}],\"heatmapgl\":[{\"type\":\"heatmapgl\",\"colorbar\":{\"outlinewidth\":0,\"ticks\":\"\"},\"colorscale\":[[0.0,\"#0d0887\"],[0.1111111111111111,\"#46039f\"],[0.2222222222222222,\"#7201a8\"],[0.3333333333333333,\"#9c179e\"],[0.4444444444444444,\"#bd3786\"],[0.5555555555555556,\"#d8576b\"],[0.6666666666666666,\"#ed7953\"],[0.7777777777777778,\"#fb9f3a\"],[0.8888888888888888,\"#fdca26\"],[1.0,\"#f0f921\"]]}],\"contourcarpet\":[{\"type\":\"contourcarpet\",\"colorbar\":{\"outlinewidth\":0,\"ticks\":\"\"}}],\"contour\":[{\"type\":\"contour\",\"colorbar\":{\"outlinewidth\":0,\"ticks\":\"\"},\"colorscale\":[[0.0,\"#0d0887\"],[0.1111111111111111,\"#46039f\"],[0.2222222222222222,\"#7201a8\"],[0.3333333333333333,\"#9c179e\"],[0.4444444444444444,\"#bd3786\"],[0.5555555555555556,\"#d8576b\"],[0.6666666666666666,\"#ed7953\"],[0.7777777777777778,\"#fb9f3a\"],[0.8888888888888888,\"#fdca26\"],[1.0,\"#f0f921\"]]}],\"surface\":[{\"type\":\"surface\",\"colorbar\":{\"outlinewidth\":0,\"ticks\":\"\"},\"colorscale\":[[0.0,\"#0d0887\"],[0.1111111111111111,\"#46039f\"],[0.2222222222222222,\"#7201a8\"],[0.3333333333333333,\"#9c179e\"],[0.4444444444444444,\"#bd3786\"],[0.5555555555555556,\"#d8576b\"],[0.6666666666666666,\"#ed7953\"],[0.7777777777777778,\"#fb9f3a\"],[0.8888888888888888,\"#fdca26\"],[1.0,\"#f0f921\"]]}],\"mesh3d\":[{\"type\":\"mesh3d\",\"colorbar\":{\"outlinewidth\":0,\"ticks\":\"\"}}],\"scatter\":[{\"fillpattern\":{\"fillmode\":\"overlay\",\"size\":10,\"solidity\":0.2},\"type\":\"scatter\"}],\"parcoords\":[{\"type\":\"parcoords\",\"line\":{\"colorbar\":{\"outlinewidth\":0,\"ticks\":\"\"}}}],\"scatterpolargl\":[{\"type\":\"scatterpolargl\",\"marker\":{\"colorbar\":{\"outlinewidth\":0,\"ticks\":\"\"}}}],\"bar\":[{\"error_x\":{\"color\":\"#2a3f5f\"},\"error_y\":{\"color\":\"#2a3f5f\"},\"marker\":{\"line\":{\"color\":\"#E5ECF6\",\"width\":0.5},\"pattern\":{\"fillmode\":\"overlay\",\"size\":10,\"solidity\":0.2}},\"type\":\"bar\"}],\"scattergeo\":[{\"type\":\"scattergeo\",\"marker\":{\"colorbar\":{\"outlinewidth\":0,\"ticks\":\"\"}}}],\"scatterpolar\":[{\"type\":\"scatterpolar\",\"marker\":{\"colorbar\":{\"outlinewidth\":0,\"ticks\":\"\"}}}],\"histogram\":[{\"marker\":{\"pattern\":{\"fillmode\":\"overlay\",\"size\":10,\"solidity\":0.2}},\"type\":\"histogram\"}],\"scattergl\":[{\"type\":\"scattergl\",\"marker\":{\"colorbar\":{\"outlinewidth\":0,\"ticks\":\"\"}}}],\"scatter3d\":[{\"type\":\"scatter3d\",\"line\":{\"colorbar\":{\"outlinewidth\":0,\"ticks\":\"\"}},\"marker\":{\"colorbar\":{\"outlinewidth\":0,\"ticks\":\"\"}}}],\"scattermapbox\":[{\"type\":\"scattermapbox\",\"marker\":{\"colorbar\":{\"outlinewidth\":0,\"ticks\":\"\"}}}],\"scatterternary\":[{\"type\":\"scatterternary\",\"marker\":{\"colorbar\":{\"outlinewidth\":0,\"ticks\":\"\"}}}],\"scattercarpet\":[{\"type\":\"scattercarpet\",\"marker\":{\"colorbar\":{\"outlinewidth\":0,\"ticks\":\"\"}}}],\"carpet\":[{\"aaxis\":{\"endlinecolor\":\"#2a3f5f\",\"gridcolor\":\"white\",\"linecolor\":\"white\",\"minorgridcolor\":\"white\",\"startlinecolor\":\"#2a3f5f\"},\"baxis\":{\"endlinecolor\":\"#2a3f5f\",\"gridcolor\":\"white\",\"linecolor\":\"white\",\"minorgridcolor\":\"white\",\"startlinecolor\":\"#2a3f5f\"},\"type\":\"carpet\"}],\"table\":[{\"cells\":{\"fill\":{\"color\":\"#EBF0F8\"},\"line\":{\"color\":\"white\"}},\"header\":{\"fill\":{\"color\":\"#C8D4E3\"},\"line\":{\"color\":\"white\"}},\"type\":\"table\"}],\"barpolar\":[{\"marker\":{\"line\":{\"color\":\"#E5ECF6\",\"width\":0.5},\"pattern\":{\"fillmode\":\"overlay\",\"size\":10,\"solidity\":0.2}},\"type\":\"barpolar\"}],\"pie\":[{\"automargin\":true,\"type\":\"pie\"}]},\"layout\":{\"autotypenumbers\":\"strict\",\"colorway\":[\"#636efa\",\"#EF553B\",\"#00cc96\",\"#ab63fa\",\"#FFA15A\",\"#19d3f3\",\"#FF6692\",\"#B6E880\",\"#FF97FF\",\"#FECB52\"],\"font\":{\"color\":\"#2a3f5f\"},\"hovermode\":\"closest\",\"hoverlabel\":{\"align\":\"left\"},\"paper_bgcolor\":\"white\",\"plot_bgcolor\":\"#E5ECF6\",\"polar\":{\"bgcolor\":\"#E5ECF6\",\"angularaxis\":{\"gridcolor\":\"white\",\"linecolor\":\"white\",\"ticks\":\"\"},\"radialaxis\":{\"gridcolor\":\"white\",\"linecolor\":\"white\",\"ticks\":\"\"}},\"ternary\":{\"bgcolor\":\"#E5ECF6\",\"aaxis\":{\"gridcolor\":\"white\",\"linecolor\":\"white\",\"ticks\":\"\"},\"baxis\":{\"gridcolor\":\"white\",\"linecolor\":\"white\",\"ticks\":\"\"},\"caxis\":{\"gridcolor\":\"white\",\"linecolor\":\"white\",\"ticks\":\"\"}},\"coloraxis\":{\"colorbar\":{\"outlinewidth\":0,\"ticks\":\"\"}},\"colorscale\":{\"sequential\":[[0.0,\"#0d0887\"],[0.1111111111111111,\"#46039f\"],[0.2222222222222222,\"#7201a8\"],[0.3333333333333333,\"#9c179e\"],[0.4444444444444444,\"#bd3786\"],[0.5555555555555556,\"#d8576b\"],[0.6666666666666666,\"#ed7953\"],[0.7777777777777778,\"#fb9f3a\"],[0.8888888888888888,\"#fdca26\"],[1.0,\"#f0f921\"]],\"sequentialminus\":[[0.0,\"#0d0887\"],[0.1111111111111111,\"#46039f\"],[0.2222222222222222,\"#7201a8\"],[0.3333333333333333,\"#9c179e\"],[0.4444444444444444,\"#bd3786\"],[0.5555555555555556,\"#d8576b\"],[0.6666666666666666,\"#ed7953\"],[0.7777777777777778,\"#fb9f3a\"],[0.8888888888888888,\"#fdca26\"],[1.0,\"#f0f921\"]],\"diverging\":[[0,\"#8e0152\"],[0.1,\"#c51b7d\"],[0.2,\"#de77ae\"],[0.3,\"#f1b6da\"],[0.4,\"#fde0ef\"],[0.5,\"#f7f7f7\"],[0.6,\"#e6f5d0\"],[0.7,\"#b8e186\"],[0.8,\"#7fbc41\"],[0.9,\"#4d9221\"],[1,\"#276419\"]]},\"xaxis\":{\"gridcolor\":\"white\",\"linecolor\":\"white\",\"ticks\":\"\",\"title\":{\"standoff\":15},\"zerolinecolor\":\"white\",\"automargin\":true,\"zerolinewidth\":2},\"yaxis\":{\"gridcolor\":\"white\",\"linecolor\":\"white\",\"ticks\":\"\",\"title\":{\"standoff\":15},\"zerolinecolor\":\"white\",\"automargin\":true,\"zerolinewidth\":2},\"scene\":{\"xaxis\":{\"backgroundcolor\":\"#E5ECF6\",\"gridcolor\":\"white\",\"linecolor\":\"white\",\"showbackground\":true,\"ticks\":\"\",\"zerolinecolor\":\"white\",\"gridwidth\":2},\"yaxis\":{\"backgroundcolor\":\"#E5ECF6\",\"gridcolor\":\"white\",\"linecolor\":\"white\",\"showbackground\":true,\"ticks\":\"\",\"zerolinecolor\":\"white\",\"gridwidth\":2},\"zaxis\":{\"backgroundcolor\":\"#E5ECF6\",\"gridcolor\":\"white\",\"linecolor\":\"white\",\"showbackground\":true,\"ticks\":\"\",\"zerolinecolor\":\"white\",\"gridwidth\":2}},\"shapedefaults\":{\"line\":{\"color\":\"#2a3f5f\"}},\"annotationdefaults\":{\"arrowcolor\":\"#2a3f5f\",\"arrowhead\":0,\"arrowwidth\":1},\"geo\":{\"bgcolor\":\"white\",\"landcolor\":\"#E5ECF6\",\"subunitcolor\":\"white\",\"showland\":true,\"showlakes\":true,\"lakecolor\":\"white\"},\"title\":{\"x\":0.05},\"mapbox\":{\"style\":\"light\"}}},\"legend\":{\"tracegroupgap\":0},\"title\":{\"text\":\"Vehicle Types with KM Range\"}},                        {\"responsive\": true}                    ).then(function(){\n",
       "                            \n",
       "var gd = document.getElementById('ce3400e6-c07f-4cc0-8274-1ca57e5303c2');\n",
       "var x = new MutationObserver(function (mutations, observer) {{\n",
       "        var display = window.getComputedStyle(gd).display;\n",
       "        if (!display || display === 'none') {{\n",
       "            console.log([gd, 'removed!']);\n",
       "            Plotly.purge(gd);\n",
       "            observer.disconnect();\n",
       "        }}\n",
       "}});\n",
       "\n",
       "// Listen for the removal of the full notebook cells\n",
       "var notebookContainer = gd.closest('#notebook-container');\n",
       "if (notebookContainer) {{\n",
       "    x.observe(notebookContainer, {childList: true});\n",
       "}}\n",
       "\n",
       "// Listen for the clearing of the current output cell\n",
       "var outputEl = gd.closest('.output');\n",
       "if (outputEl) {{\n",
       "    x.observe(outputEl, {childList: true});\n",
       "}}\n",
       "\n",
       "                        })                };                });            </script>        </div>"
      ]
     },
     "metadata": {},
     "output_type": "display_data"
    }
   ],
   "source": [
    "import plotly.express as px\n",
    "\n",
    "km_range = pd.DataFrame(df.groupby('electricVehicleType')['electricRange'].mean().reset_index()).sort_values(by='electricRange', ascending=False).reset_index(drop=True)\n",
    "km_range.columns = ['vehicle_type', 'km_range']\n",
    "\n",
    "fig = px.pie(data_frame=km_range, names='vehicle_type', values='km_range', hover_name='km_range', title='Vehicle Types with KM Range', hole=True)\n",
    "fig.show()"
   ]
  },
  {
   "cell_type": "code",
   "execution_count": null,
   "metadata": {},
   "outputs": [],
   "source": [
    "The pie chart displays the distribution of electric vehicle types based on their average kilometer range in the vehicle types. If the chart showed that 75% of the vehicles were Battery Electric Vehicles (BEVs) and 25% were Plug-in Hybrid Electric Vehicles (PHEVs), it indicates that BEVs dominate the market in terms of average kilometer range.\n",
    "\n",
    "This distribution suggests that a significant portion of the electric vehicle market consists of purely electric vehicles (BEVs), which rely solely on battery power for propulsion. BEVs generally offer a longer all-electric range compared to PHEVs.\n",
    "\n",
    "The presence of a smaller percentage of PHEVs indicates that there is still a market demand for vehicles that combine both internal combustion engines and electric motors. PHEVs offer the advantage of extended range through the use of both electric and gasoline power sources."
   ]
  }
 ],
 "metadata": {
  "kernelspec": {
   "display_name": "Python 3 (ipykernel)",
   "language": "python",
   "name": "python3"
  },
  "language_info": {
   "codemirror_mode": {
    "name": "ipython",
    "version": 3
   },
   "file_extension": ".py",
   "mimetype": "text/x-python",
   "name": "python",
   "nbconvert_exporter": "python",
   "pygments_lexer": "ipython3",
   "version": "3.11.5"
  }
 },
 "nbformat": 4,
 "nbformat_minor": 2
}
